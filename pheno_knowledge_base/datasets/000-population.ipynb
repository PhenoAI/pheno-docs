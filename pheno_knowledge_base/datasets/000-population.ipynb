{
 "cells": [
  {
   "cell_type": "raw",
   "id": "44225069",
   "metadata": {},
   "source": [
    "---\n",
    "output-file: 000-population.html\n",
    "title: 000-population\n",
    "---"
   ]
  },
  {
   "cell_type": "markdown",
   "id": "4ee57731",
   "metadata": {},
   "source": [
    "# Population characteristics dataset  \n",
    "\n",
    "Population characteristics of the Human Phenotype Project study participants including birth month and year, sex and study id.\n",
    "\n",
    "### Data availability:\n",
    "\n",
    "- population.parquet - contains sex, month and year of birth per participant\n"
   ]
  },
  {
   "cell_type": "code",
   "execution_count": 1,
   "id": "b7895209",
   "metadata": {
    "execution": {
     "iopub.execute_input": "2023-08-03T12:38:20.630414Z",
     "iopub.status.busy": "2023-08-03T12:38:20.630234Z",
     "iopub.status.idle": "2023-08-03T12:38:20.900405Z",
     "shell.execute_reply": "2023-08-03T12:38:20.899944Z"
    }
   },
   "outputs": [],
   "source": [
    "#| echo: false\n",
    "import pandas as pd\n",
    "pd.set_option(\"display.max_rows\", 500)"
   ]
  },
  {
   "cell_type": "code",
   "execution_count": 2,
   "id": "3cee2472",
   "metadata": {
    "execution": {
     "iopub.execute_input": "2023-08-03T12:38:20.902135Z",
     "iopub.status.busy": "2023-08-03T12:38:20.901978Z",
     "iopub.status.idle": "2023-08-03T12:38:21.794365Z",
     "shell.execute_reply": "2023-08-03T12:38:21.793912Z"
    }
   },
   "outputs": [],
   "source": [
    "from pheno_utils import PhenoLoader"
   ]
  },
  {
   "cell_type": "code",
   "execution_count": 3,
   "id": "73f2d238",
   "metadata": {
    "execution": {
     "iopub.execute_input": "2023-08-03T12:38:21.796288Z",
     "iopub.status.busy": "2023-08-03T12:38:21.796138Z",
     "iopub.status.idle": "2023-08-03T12:38:23.743274Z",
     "shell.execute_reply": "2023-08-03T12:38:23.742036Z"
    }
   },
   "outputs": [
    {
     "data": {
      "text/plain": [
       "DataLoader for population with\n",
       "4 fields\n",
       "1 tables: ['population']"
      ]
     },
     "execution_count": 3,
     "metadata": {},
     "output_type": "execute_result"
    }
   ],
   "source": [
    "dl = PhenoLoader('population')\n",
    "dl"
   ]
  },
  {
   "cell_type": "markdown",
   "id": "2efa1a29",
   "metadata": {},
   "source": [
    "# Data dictionary"
   ]
  },
  {
   "cell_type": "code",
   "execution_count": 4,
   "id": "46c65c84",
   "metadata": {
    "execution": {
     "iopub.execute_input": "2023-08-03T12:38:23.746441Z",
     "iopub.status.busy": "2023-08-03T12:38:23.745914Z",
     "iopub.status.idle": "2023-08-03T12:38:23.759648Z",
     "shell.execute_reply": "2023-08-03T12:38:23.759029Z"
    }
   },
   "outputs": [
    {
     "data": {
      "text/html": [
       "<div>\n",
       "<style scoped>\n",
       "    .dataframe tbody tr th:only-of-type {\n",
       "        vertical-align: middle;\n",
       "    }\n",
       "\n",
       "    .dataframe tbody tr th {\n",
       "        vertical-align: top;\n",
       "    }\n",
       "\n",
       "    .dataframe thead th {\n",
       "        text-align: right;\n",
       "    }\n",
       "</style>\n",
       "<table border=\"1\" class=\"dataframe\">\n",
       "  <thead>\n",
       "    <tr style=\"text-align: right;\">\n",
       "      <th></th>\n",
       "      <th>field_string</th>\n",
       "      <th>description_string</th>\n",
       "      <th>relative_location</th>\n",
       "      <th>value_type</th>\n",
       "      <th>units</th>\n",
       "      <th>sampling_rate</th>\n",
       "      <th>item_type</th>\n",
       "      <th>array</th>\n",
       "      <th>cohorts</th>\n",
       "      <th>data_type</th>\n",
       "      <th>debut</th>\n",
       "      <th>pandas_dtype</th>\n",
       "      <th>parent_dataframe</th>\n",
       "      <th>data_coding</th>\n",
       "    </tr>\n",
       "    <tr>\n",
       "      <th>tabular_field_name</th>\n",
       "      <th></th>\n",
       "      <th></th>\n",
       "      <th></th>\n",
       "      <th></th>\n",
       "      <th></th>\n",
       "      <th></th>\n",
       "      <th></th>\n",
       "      <th></th>\n",
       "      <th></th>\n",
       "      <th></th>\n",
       "      <th></th>\n",
       "      <th></th>\n",
       "      <th></th>\n",
       "      <th></th>\n",
       "    </tr>\n",
       "  </thead>\n",
       "  <tbody>\n",
       "    <tr>\n",
       "      <th>month_of_birth</th>\n",
       "      <td>Month of birth</td>\n",
       "      <td>Month of birth</td>\n",
       "      <td>population/population.parquet</td>\n",
       "      <td>Integer</td>\n",
       "      <td>NaN</td>\n",
       "      <td>NaN</td>\n",
       "      <td>Data</td>\n",
       "      <td>No</td>\n",
       "      <td>10K</td>\n",
       "      <td>Tabular</td>\n",
       "      <td>2019-01-01</td>\n",
       "      <td>int</td>\n",
       "      <td>NaN</td>\n",
       "      <td>NaN</td>\n",
       "    </tr>\n",
       "    <tr>\n",
       "      <th>year_of_birth</th>\n",
       "      <td>Year of birth</td>\n",
       "      <td>Year of birth</td>\n",
       "      <td>population/population.parquet</td>\n",
       "      <td>Integer</td>\n",
       "      <td>NaN</td>\n",
       "      <td>NaN</td>\n",
       "      <td>Data</td>\n",
       "      <td>No</td>\n",
       "      <td>10K</td>\n",
       "      <td>Tabular</td>\n",
       "      <td>2019-01-01</td>\n",
       "      <td>int</td>\n",
       "      <td>NaN</td>\n",
       "      <td>NaN</td>\n",
       "    </tr>\n",
       "    <tr>\n",
       "      <th>sex</th>\n",
       "      <td>Sex</td>\n",
       "      <td>Sex</td>\n",
       "      <td>population/population.parquet</td>\n",
       "      <td>Categorical (single)</td>\n",
       "      <td>NaN</td>\n",
       "      <td>NaN</td>\n",
       "      <td>Data</td>\n",
       "      <td>No</td>\n",
       "      <td>10K</td>\n",
       "      <td>Tabular</td>\n",
       "      <td>2019-01-01</td>\n",
       "      <td>int</td>\n",
       "      <td>NaN</td>\n",
       "      <td>9.0</td>\n",
       "    </tr>\n",
       "    <tr>\n",
       "      <th>study_id</th>\n",
       "      <td>Study ID</td>\n",
       "      <td>The study identifier</td>\n",
       "      <td>population/population.parquet</td>\n",
       "      <td>Categorical (multiple)</td>\n",
       "      <td>NaN</td>\n",
       "      <td>NaN</td>\n",
       "      <td>Data</td>\n",
       "      <td>No</td>\n",
       "      <td>10K</td>\n",
       "      <td>Tabular</td>\n",
       "      <td>2019-01-01</td>\n",
       "      <td>int</td>\n",
       "      <td>NaN</td>\n",
       "      <td>1000.0</td>\n",
       "    </tr>\n",
       "  </tbody>\n",
       "</table>\n",
       "</div>"
      ],
      "text/plain": [
       "                      field_string    description_string  \\\n",
       "tabular_field_name                                         \n",
       "month_of_birth      Month of birth        Month of birth   \n",
       "year_of_birth        Year of birth         Year of birth   \n",
       "sex                            Sex                   Sex   \n",
       "study_id                  Study ID  The study identifier   \n",
       "\n",
       "                                relative_location              value_type  \\\n",
       "tabular_field_name                                                          \n",
       "month_of_birth      population/population.parquet                 Integer   \n",
       "year_of_birth       population/population.parquet                 Integer   \n",
       "sex                 population/population.parquet    Categorical (single)   \n",
       "study_id            population/population.parquet  Categorical (multiple)   \n",
       "\n",
       "                    units  sampling_rate item_type array cohorts data_type  \\\n",
       "tabular_field_name                                                           \n",
       "month_of_birth        NaN            NaN      Data    No     10K   Tabular   \n",
       "year_of_birth         NaN            NaN      Data    No     10K   Tabular   \n",
       "sex                   NaN            NaN      Data    No     10K   Tabular   \n",
       "study_id              NaN            NaN      Data    No     10K   Tabular   \n",
       "\n",
       "                         debut pandas_dtype  parent_dataframe  data_coding  \n",
       "tabular_field_name                                                          \n",
       "month_of_birth      2019-01-01          int               NaN          NaN  \n",
       "year_of_birth       2019-01-01          int               NaN          NaN  \n",
       "sex                 2019-01-01          int               NaN          9.0  \n",
       "study_id            2019-01-01          int               NaN       1000.0  "
      ]
     },
     "execution_count": 4,
     "metadata": {},
     "output_type": "execute_result"
    }
   ],
   "source": [
    "dl.dict"
   ]
  }
 ],
 "metadata": {
  "language_info": {
   "codemirror_mode": {
    "name": "ipython",
    "version": 3
   },
   "file_extension": ".py",
   "mimetype": "text/x-python",
   "name": "python",
   "nbconvert_exporter": "python",
   "pygments_lexer": "ipython3",
   "version": "3.10.10"
  }
 },
 "nbformat": 4,
 "nbformat_minor": 5
}
