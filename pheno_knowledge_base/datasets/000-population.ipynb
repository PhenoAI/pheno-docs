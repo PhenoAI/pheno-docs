{
 "cells": [
  {
   "cell_type": "raw",
   "id": "48335cfe",
   "metadata": {},
   "source": [
    "---\n",
    "output-file: 000-population.html\n",
    "title: 000-population\n",
    "---"
   ]
  },
  {
   "cell_type": "markdown",
   "id": "6bc4125f",
   "metadata": {},
   "source": [
    "# Population characteristics dataset  \n",
    "\n",
    "Population characteristics of the Human Phenotype Project study participants including birth month and year, sex and study id.\n",
    "\n",
    "### Data availability:\n",
    "\n",
    "- Information about sex, study_id, and month and year of birth per participant: `population.parquet`\n"
   ]
  },
  {
   "cell_type": "code",
   "execution_count": 1,
   "id": "4b5a1c2a",
   "metadata": {
    "execution": {
     "iopub.execute_input": "2024-04-02T11:57:53.611678Z",
     "iopub.status.busy": "2024-04-02T11:57:53.611222Z",
     "iopub.status.idle": "2024-04-02T11:57:53.887047Z",
     "shell.execute_reply": "2024-04-02T11:57:53.886576Z"
    }
   },
   "outputs": [],
   "source": [
    "#| echo: false\n",
    "import pandas as pd\n",
    "pd.set_option(\"display.max_rows\", 500)"
   ]
  },
  {
   "cell_type": "code",
   "execution_count": 2,
   "id": "2cbba289",
   "metadata": {
    "execution": {
     "iopub.execute_input": "2024-04-02T11:57:53.889563Z",
     "iopub.status.busy": "2024-04-02T11:57:53.889296Z",
     "iopub.status.idle": "2024-04-02T11:57:55.215714Z",
     "shell.execute_reply": "2024-04-02T11:57:55.214824Z"
    }
   },
   "outputs": [],
   "source": [
    "from pheno_utils import PhenoLoader"
   ]
  },
  {
   "cell_type": "code",
   "execution_count": 3,
   "id": "563942cf",
   "metadata": {
    "execution": {
     "iopub.execute_input": "2024-04-02T11:57:55.218228Z",
     "iopub.status.busy": "2024-04-02T11:57:55.217897Z",
     "iopub.status.idle": "2024-04-02T11:57:55.684048Z",
     "shell.execute_reply": "2024-04-02T11:57:55.683082Z"
    }
   },
   "outputs": [
    {
     "data": {
      "text/plain": [
       "PhenoLoader for population with\n",
       "4 fields\n",
       "1 tables: ['population']"
      ]
     },
     "execution_count": 3,
     "metadata": {},
     "output_type": "execute_result"
    }
   ],
   "source": [
    "pl = PhenoLoader('population')\n",
    "pl"
   ]
  },
  {
   "cell_type": "markdown",
   "id": "86072678",
   "metadata": {},
   "source": [
    "# Data dictionary"
   ]
  },
  {
   "cell_type": "code",
   "execution_count": 4,
   "id": "cbe9b8fc",
   "metadata": {
    "execution": {
     "iopub.execute_input": "2024-04-02T11:57:55.686329Z",
     "iopub.status.busy": "2024-04-02T11:57:55.685910Z",
     "iopub.status.idle": "2024-04-02T11:57:55.697619Z",
     "shell.execute_reply": "2024-04-02T11:57:55.696930Z"
    }
   },
   "outputs": [
    {
     "data": {
      "text/html": [
       "<div>\n",
       "<style scoped>\n",
       "    .dataframe tbody tr th:only-of-type {\n",
       "        vertical-align: middle;\n",
       "    }\n",
       "\n",
       "    .dataframe tbody tr th {\n",
       "        vertical-align: top;\n",
       "    }\n",
       "\n",
       "    .dataframe thead th {\n",
       "        text-align: right;\n",
       "    }\n",
       "</style>\n",
       "<table border=\"1\" class=\"dataframe\">\n",
       "  <thead>\n",
       "    <tr style=\"text-align: right;\">\n",
       "      <th></th>\n",
       "      <th>field_string</th>\n",
       "      <th>description_string</th>\n",
       "      <th>folder_id</th>\n",
       "      <th>feature_set</th>\n",
       "      <th>field_type</th>\n",
       "      <th>strata</th>\n",
       "      <th>data_coding</th>\n",
       "      <th>array</th>\n",
       "      <th>pandas_dtype</th>\n",
       "      <th>bulk_file_extension</th>\n",
       "      <th>relative_location</th>\n",
       "      <th>units</th>\n",
       "      <th>bulk_dictionary</th>\n",
       "      <th>sampling_rate</th>\n",
       "      <th>transformation</th>\n",
       "      <th>list_of_tags</th>\n",
       "      <th>stability</th>\n",
       "      <th>sexed</th>\n",
       "      <th>debut</th>\n",
       "      <th>completed</th>\n",
       "    </tr>\n",
       "    <tr>\n",
       "      <th>tabular_field_name</th>\n",
       "      <th></th>\n",
       "      <th></th>\n",
       "      <th></th>\n",
       "      <th></th>\n",
       "      <th></th>\n",
       "      <th></th>\n",
       "      <th></th>\n",
       "      <th></th>\n",
       "      <th></th>\n",
       "      <th></th>\n",
       "      <th></th>\n",
       "      <th></th>\n",
       "      <th></th>\n",
       "      <th></th>\n",
       "      <th></th>\n",
       "      <th></th>\n",
       "      <th></th>\n",
       "      <th></th>\n",
       "      <th></th>\n",
       "      <th></th>\n",
       "    </tr>\n",
       "  </thead>\n",
       "  <tbody>\n",
       "    <tr>\n",
       "      <th>month_of_birth</th>\n",
       "      <td>Month of birth</td>\n",
       "      <td>Month of birth</td>\n",
       "      <td>1</td>\n",
       "      <td>population</td>\n",
       "      <td>Categorical (single)</td>\n",
       "      <td>Primary</td>\n",
       "      <td>042_03</td>\n",
       "      <td>Single</td>\n",
       "      <td>category</td>\n",
       "      <td>NaN</td>\n",
       "      <td>population/population.parquet</td>\n",
       "      <td>NaN</td>\n",
       "      <td>NaN</td>\n",
       "      <td>NaN</td>\n",
       "      <td>NaN</td>\n",
       "      <td>NaN</td>\n",
       "      <td>Accruing</td>\n",
       "      <td>Both sexes</td>\n",
       "      <td>2019-01-01</td>\n",
       "      <td>NaN</td>\n",
       "    </tr>\n",
       "    <tr>\n",
       "      <th>year_of_birth</th>\n",
       "      <td>Year of birth</td>\n",
       "      <td>Year of birth</td>\n",
       "      <td>1</td>\n",
       "      <td>population</td>\n",
       "      <td>Integer</td>\n",
       "      <td>Primary</td>\n",
       "      <td>NaN</td>\n",
       "      <td>Single</td>\n",
       "      <td>int</td>\n",
       "      <td>NaN</td>\n",
       "      <td>population/population.parquet</td>\n",
       "      <td>NaN</td>\n",
       "      <td>NaN</td>\n",
       "      <td>NaN</td>\n",
       "      <td>NaN</td>\n",
       "      <td>NaN</td>\n",
       "      <td>Accruing</td>\n",
       "      <td>Both sexes</td>\n",
       "      <td>2019-01-01</td>\n",
       "      <td>NaN</td>\n",
       "    </tr>\n",
       "    <tr>\n",
       "      <th>sex</th>\n",
       "      <td>Sex</td>\n",
       "      <td>Sex</td>\n",
       "      <td>1</td>\n",
       "      <td>population</td>\n",
       "      <td>Categorical (single)</td>\n",
       "      <td>Primary</td>\n",
       "      <td>9</td>\n",
       "      <td>Single</td>\n",
       "      <td>category</td>\n",
       "      <td>NaN</td>\n",
       "      <td>population/population.parquet</td>\n",
       "      <td>NaN</td>\n",
       "      <td>NaN</td>\n",
       "      <td>NaN</td>\n",
       "      <td>NaN</td>\n",
       "      <td>NaN</td>\n",
       "      <td>Accruing</td>\n",
       "      <td>Both sexes</td>\n",
       "      <td>2019-01-01</td>\n",
       "      <td>NaN</td>\n",
       "    </tr>\n",
       "    <tr>\n",
       "      <th>study_id</th>\n",
       "      <td>Study ID</td>\n",
       "      <td>The study identifier</td>\n",
       "      <td>1</td>\n",
       "      <td>population</td>\n",
       "      <td>Categorical (single)</td>\n",
       "      <td>Auxiliary</td>\n",
       "      <td>000_01</td>\n",
       "      <td>Single</td>\n",
       "      <td>category</td>\n",
       "      <td>NaN</td>\n",
       "      <td>population/population.parquet</td>\n",
       "      <td>NaN</td>\n",
       "      <td>NaN</td>\n",
       "      <td>NaN</td>\n",
       "      <td>NaN</td>\n",
       "      <td>NaN</td>\n",
       "      <td>Accruing</td>\n",
       "      <td>Both sexes</td>\n",
       "      <td>2019-01-01</td>\n",
       "      <td>NaN</td>\n",
       "    </tr>\n",
       "  </tbody>\n",
       "</table>\n",
       "</div>"
      ],
      "text/plain": [
       "                      field_string    description_string  folder_id  \\\n",
       "tabular_field_name                                                    \n",
       "month_of_birth      Month of birth        Month of birth          1   \n",
       "year_of_birth        Year of birth         Year of birth          1   \n",
       "sex                            Sex                   Sex          1   \n",
       "study_id                  Study ID  The study identifier          1   \n",
       "\n",
       "                   feature_set            field_type     strata data_coding  \\\n",
       "tabular_field_name                                                            \n",
       "month_of_birth      population  Categorical (single)    Primary      042_03   \n",
       "year_of_birth       population               Integer    Primary         NaN   \n",
       "sex                 population  Categorical (single)    Primary           9   \n",
       "study_id            population  Categorical (single)  Auxiliary      000_01   \n",
       "\n",
       "                     array pandas_dtype  bulk_file_extension  \\\n",
       "tabular_field_name                                             \n",
       "month_of_birth      Single     category                  NaN   \n",
       "year_of_birth       Single          int                  NaN   \n",
       "sex                 Single     category                  NaN   \n",
       "study_id            Single     category                  NaN   \n",
       "\n",
       "                                relative_location  units  bulk_dictionary  \\\n",
       "tabular_field_name                                                          \n",
       "month_of_birth      population/population.parquet    NaN              NaN   \n",
       "year_of_birth       population/population.parquet    NaN              NaN   \n",
       "sex                 population/population.parquet    NaN              NaN   \n",
       "study_id            population/population.parquet    NaN              NaN   \n",
       "\n",
       "                    sampling_rate  transformation  list_of_tags stability  \\\n",
       "tabular_field_name                                                          \n",
       "month_of_birth                NaN             NaN           NaN  Accruing   \n",
       "year_of_birth                 NaN             NaN           NaN  Accruing   \n",
       "sex                           NaN             NaN           NaN  Accruing   \n",
       "study_id                      NaN             NaN           NaN  Accruing   \n",
       "\n",
       "                         sexed       debut  completed  \n",
       "tabular_field_name                                     \n",
       "month_of_birth      Both sexes  2019-01-01        NaN  \n",
       "year_of_birth       Both sexes  2019-01-01        NaN  \n",
       "sex                 Both sexes  2019-01-01        NaN  \n",
       "study_id            Both sexes  2019-01-01        NaN  "
      ]
     },
     "execution_count": 4,
     "metadata": {},
     "output_type": "execute_result"
    }
   ],
   "source": [
    "pl.dict"
   ]
  }
 ],
 "metadata": {
  "language_info": {
   "codemirror_mode": {
    "name": "ipython",
    "version": 3
   },
   "file_extension": ".py",
   "mimetype": "text/x-python",
   "name": "python",
   "nbconvert_exporter": "python",
   "pygments_lexer": "ipython3",
   "version": "3.11.5"
  }
 },
 "nbformat": 4,
 "nbformat_minor": 5
}
