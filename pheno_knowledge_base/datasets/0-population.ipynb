{
 "cells": [
  {
   "cell_type": "raw",
   "id": "e516eca9",
   "metadata": {},
   "source": [
    "---\n",
    "output-file: 0-population.html\n",
    "title: 0-population\n",
    "---"
   ]
  },
  {
   "cell_type": "markdown",
   "id": "d673e953",
   "metadata": {},
   "source": [
    "# Population characteristics dataset  \n",
    "\n",
    "Population characteristics of the Human Phenotype Project study participants including birth month and year, sex and study id.\n",
    "\n",
    "### Data availability:\n",
    "\n",
    "- population.parquet - contains sex, month and year of birth per participant\n"
   ]
  },
  {
   "cell_type": "code",
   "execution_count": 1,
   "id": "0148a0bb",
   "metadata": {
    "execution": {
     "iopub.execute_input": "2023-07-11T08:36:06.119827Z",
     "iopub.status.busy": "2023-07-11T08:36:06.119411Z",
     "iopub.status.idle": "2023-07-11T08:36:06.420990Z",
     "shell.execute_reply": "2023-07-11T08:36:06.420581Z"
    }
   },
   "outputs": [],
   "source": [
    "#| echo: false\n",
    "import pandas as pd\n",
    "pd.set_option(\"display.max_rows\", 500)"
   ]
  },
  {
   "cell_type": "code",
   "execution_count": 2,
   "id": "1ec1b35d",
   "metadata": {
    "execution": {
     "iopub.execute_input": "2023-07-11T08:36:06.422876Z",
     "iopub.status.busy": "2023-07-11T08:36:06.422693Z",
     "iopub.status.idle": "2023-07-11T08:36:07.250314Z",
     "shell.execute_reply": "2023-07-11T08:36:07.249816Z"
    }
   },
   "outputs": [],
   "source": [
    "from pheno_utils import PhenoLoader"
   ]
  },
  {
   "cell_type": "code",
   "execution_count": 3,
   "id": "6d74a489",
   "metadata": {
    "execution": {
     "iopub.execute_input": "2023-07-11T08:36:07.252396Z",
     "iopub.status.busy": "2023-07-11T08:36:07.252269Z",
     "iopub.status.idle": "2023-07-11T08:36:12.901494Z",
     "shell.execute_reply": "2023-07-11T08:36:12.900670Z"
    }
   },
   "outputs": [
    {
     "data": {
      "text/plain": [
       "DataLoader for population with\n",
       "4 fields\n",
       "1 tables: ['population']"
      ]
     },
     "execution_count": 3,
     "metadata": {},
     "output_type": "execute_result"
    }
   ],
   "source": [
    "dl = PhenoLoader('population')\n",
    "dl"
   ]
  },
  {
   "cell_type": "markdown",
   "id": "a9804ab0",
   "metadata": {},
   "source": [
    "# Data dictionary"
   ]
  },
  {
   "cell_type": "code",
   "execution_count": 4,
   "id": "221b42c7",
   "metadata": {
    "execution": {
     "iopub.execute_input": "2023-07-11T08:36:12.916650Z",
     "iopub.status.busy": "2023-07-11T08:36:12.915874Z",
     "iopub.status.idle": "2023-07-11T08:36:12.926016Z",
     "shell.execute_reply": "2023-07-11T08:36:12.925644Z"
    }
   },
   "outputs": [
    {
     "data": {
      "text/html": [
       "<div>\n",
       "<style scoped>\n",
       "    .dataframe tbody tr th:only-of-type {\n",
       "        vertical-align: middle;\n",
       "    }\n",
       "\n",
       "    .dataframe tbody tr th {\n",
       "        vertical-align: top;\n",
       "    }\n",
       "\n",
       "    .dataframe thead th {\n",
       "        text-align: right;\n",
       "    }\n",
       "</style>\n",
       "<table border=\"1\" class=\"dataframe\">\n",
       "  <thead>\n",
       "    <tr style=\"text-align: right;\">\n",
       "      <th></th>\n",
       "      <th>field_string</th>\n",
       "      <th>description_string</th>\n",
       "      <th>parent_dataframe</th>\n",
       "      <th>relative_location</th>\n",
       "      <th>value_type</th>\n",
       "      <th>units</th>\n",
       "      <th>sampling_rate</th>\n",
       "      <th>item_type</th>\n",
       "      <th>array</th>\n",
       "      <th>cohorts</th>\n",
       "      <th>data_type</th>\n",
       "      <th>debut</th>\n",
       "      <th>pandas_dtype</th>\n",
       "    </tr>\n",
       "    <tr>\n",
       "      <th>tabular_field_name</th>\n",
       "      <th></th>\n",
       "      <th></th>\n",
       "      <th></th>\n",
       "      <th></th>\n",
       "      <th></th>\n",
       "      <th></th>\n",
       "      <th></th>\n",
       "      <th></th>\n",
       "      <th></th>\n",
       "      <th></th>\n",
       "      <th></th>\n",
       "      <th></th>\n",
       "      <th></th>\n",
       "    </tr>\n",
       "  </thead>\n",
       "  <tbody>\n",
       "    <tr>\n",
       "      <th>month_of_birth</th>\n",
       "      <td>Month of birth</td>\n",
       "      <td>Month of birth</td>\n",
       "      <td>NaN</td>\n",
       "      <td>/population/population.parquet</td>\n",
       "      <td>Integer</td>\n",
       "      <td>None</td>\n",
       "      <td>NaN</td>\n",
       "      <td>Data</td>\n",
       "      <td>No</td>\n",
       "      <td>10K</td>\n",
       "      <td>Tabular</td>\n",
       "      <td>2019-01-01</td>\n",
       "      <td>int</td>\n",
       "    </tr>\n",
       "    <tr>\n",
       "      <th>year_of_birth</th>\n",
       "      <td>Year of birth</td>\n",
       "      <td>Year of birth</td>\n",
       "      <td>NaN</td>\n",
       "      <td>/population/population.parquet</td>\n",
       "      <td>Integer</td>\n",
       "      <td>None</td>\n",
       "      <td>NaN</td>\n",
       "      <td>Data</td>\n",
       "      <td>No</td>\n",
       "      <td>10K</td>\n",
       "      <td>Tabular</td>\n",
       "      <td>2019-01-01</td>\n",
       "      <td>int</td>\n",
       "    </tr>\n",
       "    <tr>\n",
       "      <th>sex</th>\n",
       "      <td>Sex</td>\n",
       "      <td>Sex</td>\n",
       "      <td>NaN</td>\n",
       "      <td>/population/population.parquet</td>\n",
       "      <td>Categorical (single)</td>\n",
       "      <td>None</td>\n",
       "      <td>NaN</td>\n",
       "      <td>Data</td>\n",
       "      <td>No</td>\n",
       "      <td>10K</td>\n",
       "      <td>Tabular</td>\n",
       "      <td>2019-01-01</td>\n",
       "      <td>category</td>\n",
       "    </tr>\n",
       "    <tr>\n",
       "      <th>study_id</th>\n",
       "      <td>Study ID</td>\n",
       "      <td>The study identifier</td>\n",
       "      <td>NaN</td>\n",
       "      <td>/population/population.parquet</td>\n",
       "      <td>Categorical (multiple)</td>\n",
       "      <td>None</td>\n",
       "      <td>NaN</td>\n",
       "      <td>Data</td>\n",
       "      <td>No</td>\n",
       "      <td>10K</td>\n",
       "      <td>Tabular</td>\n",
       "      <td>2019-01-01</td>\n",
       "      <td>category</td>\n",
       "    </tr>\n",
       "  </tbody>\n",
       "</table>\n",
       "</div>"
      ],
      "text/plain": [
       "                      field_string    description_string  parent_dataframe  \\\n",
       "tabular_field_name                                                           \n",
       "month_of_birth      Month of birth        Month of birth               NaN   \n",
       "year_of_birth        Year of birth         Year of birth               NaN   \n",
       "sex                            Sex                   Sex               NaN   \n",
       "study_id                  Study ID  The study identifier               NaN   \n",
       "\n",
       "                                 relative_location              value_type  \\\n",
       "tabular_field_name                                                           \n",
       "month_of_birth      /population/population.parquet                 Integer   \n",
       "year_of_birth       /population/population.parquet                 Integer   \n",
       "sex                 /population/population.parquet    Categorical (single)   \n",
       "study_id            /population/population.parquet  Categorical (multiple)   \n",
       "\n",
       "                   units  sampling_rate item_type array cohorts data_type  \\\n",
       "tabular_field_name                                                          \n",
       "month_of_birth      None            NaN      Data    No     10K   Tabular   \n",
       "year_of_birth       None            NaN      Data    No     10K   Tabular   \n",
       "sex                 None            NaN      Data    No     10K   Tabular   \n",
       "study_id            None            NaN      Data    No     10K   Tabular   \n",
       "\n",
       "                         debut pandas_dtype  \n",
       "tabular_field_name                           \n",
       "month_of_birth      2019-01-01          int  \n",
       "year_of_birth       2019-01-01          int  \n",
       "sex                 2019-01-01     category  \n",
       "study_id            2019-01-01     category  "
      ]
     },
     "execution_count": 4,
     "metadata": {},
     "output_type": "execute_result"
    }
   ],
   "source": [
    "dl.dict"
   ]
  }
 ],
 "metadata": {
  "language_info": {
   "codemirror_mode": {
    "name": "ipython",
    "version": 3
   },
   "file_extension": ".py",
   "mimetype": "text/x-python",
   "name": "python",
   "nbconvert_exporter": "python",
   "pygments_lexer": "ipython3",
   "version": "3.10.10"
  }
 },
 "nbformat": 4,
 "nbformat_minor": 5
}
