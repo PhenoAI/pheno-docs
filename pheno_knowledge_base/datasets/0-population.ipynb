{
 "cells": [
  {
   "cell_type": "raw",
   "id": "5d2687f3",
   "metadata": {},
   "source": [
    "---\n",
    "output-file: 0-population.html\n",
    "title: 0-population\n",
    "---"
   ]
  },
  {
   "cell_type": "markdown",
   "id": "e1eba466",
   "metadata": {},
   "source": [
    "# Population characteristics dataset  \n",
    "\n",
    "Population characteristics of the Human Phenotype Project study participants including birth month and year, sex and study id.\n",
    "\n",
    "### Data availability:\n",
    "\n",
    "- population.parquet - contains sex, month and year of birth per participant\n"
   ]
  },
  {
   "cell_type": "code",
   "execution_count": null,
   "id": "b6e8c469",
   "metadata": {},
   "outputs": [],
   "source": [
    "#| echo: false\n",
    "import pandas as pd\n",
    "pd.set_option(\"display.max_rows\", 500)"
   ]
  },
  {
   "cell_type": "code",
   "execution_count": null,
   "id": "2dcd5b66",
   "metadata": {},
   "outputs": [],
   "source": [
    "from pheno_utils import PhenoLoader"
   ]
  },
  {
   "cell_type": "code",
   "execution_count": 2,
   "id": "51cf9e4e",
   "metadata": {},
   "outputs": [
    {
     "data": {
      "text/plain": [
       "DataLoader for population with\n",
       "4 fields\n",
       "1 tables: ['population']"
      ]
     },
     "execution_count": 2,
     "metadata": {},
     "output_type": "execute_result"
    }
   ],
   "source": [
    "dl = PhenoLoader('population')\n",
    "dl"
   ]
  },
  {
   "attachments": {},
   "cell_type": "markdown",
   "id": "83d13ce2",
   "metadata": {},
   "source": [
    "# Data dictionary"
   ]
  },
  {
   "cell_type": "code",
   "execution_count": 3,
   "id": "3a0af1d9",
   "metadata": {},
   "outputs": [
    {
     "data": {
      "text/html": [
       "<div>\n",
       "<style scoped>\n",
       "    .dataframe tbody tr th:only-of-type {\n",
       "        vertical-align: middle;\n",
       "    }\n",
       "\n",
       "    .dataframe tbody tr th {\n",
       "        vertical-align: top;\n",
       "    }\n",
       "\n",
       "    .dataframe thead th {\n",
       "        text-align: right;\n",
       "    }\n",
       "</style>\n",
       "<table border=\"1\" class=\"dataframe\">\n",
       "  <thead>\n",
       "    <tr style=\"text-align: right;\">\n",
       "      <th></th>\n",
       "      <th>field_string</th>\n",
       "      <th>description_string</th>\n",
       "      <th>parent_dataframe</th>\n",
       "      <th>relative_location</th>\n",
       "      <th>value_type</th>\n",
       "      <th>units</th>\n",
       "      <th>sampling_rate</th>\n",
       "      <th>item_type</th>\n",
       "      <th>array</th>\n",
       "      <th>cohorts</th>\n",
       "      <th>data_type</th>\n",
       "      <th>debut</th>\n",
       "      <th>pandas_dtype</th>\n",
       "    </tr>\n",
       "    <tr>\n",
       "      <th>tabular_field_name</th>\n",
       "      <th></th>\n",
       "      <th></th>\n",
       "      <th></th>\n",
       "      <th></th>\n",
       "      <th></th>\n",
       "      <th></th>\n",
       "      <th></th>\n",
       "      <th></th>\n",
       "      <th></th>\n",
       "      <th></th>\n",
       "      <th></th>\n",
       "      <th></th>\n",
       "      <th></th>\n",
       "    </tr>\n",
       "  </thead>\n",
       "  <tbody>\n",
       "    <tr>\n",
       "      <th>month_of_birth</th>\n",
       "      <td>Month of birth</td>\n",
       "      <td>Month of birth</td>\n",
       "      <td>NaN</td>\n",
       "      <td>/population/population.parquet</td>\n",
       "      <td>Integer</td>\n",
       "      <td>None</td>\n",
       "      <td>NaN</td>\n",
       "      <td>Data</td>\n",
       "      <td>No</td>\n",
       "      <td>10K</td>\n",
       "      <td>Tabular</td>\n",
       "      <td>2019-01-01</td>\n",
       "      <td>int</td>\n",
       "    </tr>\n",
       "    <tr>\n",
       "      <th>year_of_birth</th>\n",
       "      <td>Year of birth</td>\n",
       "      <td>Year of birth</td>\n",
       "      <td>NaN</td>\n",
       "      <td>/population/population.parquet</td>\n",
       "      <td>Integer</td>\n",
       "      <td>None</td>\n",
       "      <td>NaN</td>\n",
       "      <td>Data</td>\n",
       "      <td>No</td>\n",
       "      <td>10K</td>\n",
       "      <td>Tabular</td>\n",
       "      <td>2019-01-01</td>\n",
       "      <td>int</td>\n",
       "    </tr>\n",
       "    <tr>\n",
       "      <th>sex</th>\n",
       "      <td>Sex</td>\n",
       "      <td>Sex</td>\n",
       "      <td>NaN</td>\n",
       "      <td>/population/population.parquet</td>\n",
       "      <td>Categorical (single)</td>\n",
       "      <td>None</td>\n",
       "      <td>NaN</td>\n",
       "      <td>Data</td>\n",
       "      <td>No</td>\n",
       "      <td>10K</td>\n",
       "      <td>Tabular</td>\n",
       "      <td>2019-01-01</td>\n",
       "      <td>category</td>\n",
       "    </tr>\n",
       "    <tr>\n",
       "      <th>study_id</th>\n",
       "      <td>Study ID</td>\n",
       "      <td>The study identifier</td>\n",
       "      <td>NaN</td>\n",
       "      <td>/population/population.parquet</td>\n",
       "      <td>Categorical (multiple)</td>\n",
       "      <td>None</td>\n",
       "      <td>NaN</td>\n",
       "      <td>Data</td>\n",
       "      <td>No</td>\n",
       "      <td>10K</td>\n",
       "      <td>Tabular</td>\n",
       "      <td>2019-01-01</td>\n",
       "      <td>category</td>\n",
       "    </tr>\n",
       "  </tbody>\n",
       "</table>\n",
       "</div>"
      ],
      "text/plain": [
       "                      field_string    description_string  parent_dataframe  \\\n",
       "tabular_field_name                                                           \n",
       "month_of_birth      Month of birth        Month of birth               NaN   \n",
       "year_of_birth        Year of birth         Year of birth               NaN   \n",
       "sex                            Sex                   Sex               NaN   \n",
       "study_id                  Study ID  The study identifier               NaN   \n",
       "\n",
       "                                 relative_location              value_type  \\\n",
       "tabular_field_name                                                           \n",
       "month_of_birth      /population/population.parquet                 Integer   \n",
       "year_of_birth       /population/population.parquet                 Integer   \n",
       "sex                 /population/population.parquet    Categorical (single)   \n",
       "study_id            /population/population.parquet  Categorical (multiple)   \n",
       "\n",
       "                   units  sampling_rate item_type array cohorts data_type  \\\n",
       "tabular_field_name                                                          \n",
       "month_of_birth      None            NaN      Data    No     10K   Tabular   \n",
       "year_of_birth       None            NaN      Data    No     10K   Tabular   \n",
       "sex                 None            NaN      Data    No     10K   Tabular   \n",
       "study_id            None            NaN      Data    No     10K   Tabular   \n",
       "\n",
       "                         debut pandas_dtype  \n",
       "tabular_field_name                           \n",
       "month_of_birth      2019-01-01          int  \n",
       "year_of_birth       2019-01-01          int  \n",
       "sex                 2019-01-01     category  \n",
       "study_id            2019-01-01     category  "
      ]
     },
     "execution_count": 3,
     "metadata": {},
     "output_type": "execute_result"
    }
   ],
   "source": [
    "dl.dict"
   ]
  }
 ],
 "metadata": {},
 "nbformat": 4,
 "nbformat_minor": 5
}
