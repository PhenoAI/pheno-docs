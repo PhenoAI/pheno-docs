{
 "cells": [
  {
   "cell_type": "markdown",
   "metadata": {},
   "source": [
    "# Update the publications pages\n",
    "\n",
    "from the Notion database"
   ]
  },
  {
   "cell_type": "code",
   "execution_count": 1,
   "metadata": {},
   "outputs": [
    {
     "name": "stderr",
     "output_type": "stream",
     "text": [
      "/home/ec2-user/miniconda3/lib/python3.10/site-packages/pandas/core/arrays/masked.py:60: UserWarning: Pandas requires version '1.3.6' or newer of 'bottleneck' (version '1.3.5' currently installed).\n",
      "  from pandas.core import (\n",
      "/home/ec2-user/miniconda3/lib/python3.10/site-packages/Bio/__init__.py:138: BiopythonWarning: You may be importing Biopython from inside the source tree. This is bad practice and might lead to downstream issues. In particular, you might encounter ImportErrors due to missing compiled C extensions. We recommend that you try running your code from outside the source tree. If you are outside the source tree then you have a setup.py file in an unexpected directory: /home/ec2-user/miniconda3/lib/python3.10/site-packages\n",
      "  warnings.warn(\n"
     ]
    }
   ],
   "source": [
    "from publications import get_notion_token_from_aws_secret_manager, fetch_database, process_publication, move_publications_to_website"
   ]
  },
  {
   "cell_type": "code",
   "execution_count": 2,
   "metadata": {},
   "outputs": [],
   "source": [
    "NOTION_TOKEN = get_notion_token_from_aws_secret_manager()\n",
    "NOTION_DATABASE_ID = '851933e545a843799ac66da227acc50a'"
   ]
  },
  {
   "cell_type": "code",
   "execution_count": 3,
   "metadata": {},
   "outputs": [],
   "source": [
    "pubs = fetch_database(NOTION_TOKEN, NOTION_DATABASE_ID)\n",
    "pubs = pubs.loc[pubs['Is relevant?'] == True]"
   ]
  },
  {
   "cell_type": "code",
   "execution_count": 4,
   "metadata": {},
   "outputs": [
    {
     "name": "stdout",
     "output_type": "stream",
     "text": [
      "\n"
     ]
    },
    {
     "name": "stderr",
     "output_type": "stream",
     "text": [
      " Retrieving Notion blocks... (0.0s)\n"
     ]
    },
    {
     "name": "stdout",
     "output_type": "stream",
     "text": [
      " Converting 3 blocks...\n",
      "Downloading image.png\n"
     ]
    },
    {
     "name": "stderr",
     "output_type": "stream",
     "text": [
      "  Retrieved Notion blocks... (0.3s)\n",
      "\n"
     ]
    },
    {
     "name": "stdout",
     "output_type": "stream",
     "text": [
      " Downloaded \"image.png\" -> \"2d2c2007_image.png\"\n",
      "  Converted 3 blocks to Markdown (0.8s)\n",
      "   Exported \"3db57ba3-1917-48a6-8014-85b92662213e.md\" in \"./publications/\"\n",
      "\n",
      "Fetching publication details for http://dx.doi.org/10.1038/s41591-019-0727-5\n",
      "\n"
     ]
    },
    {
     "name": "stderr",
     "output_type": "stream",
     "text": [
      " Retrieving Notion blocks... (0.0s)\n",
      "  Retrieved Notion blocks... (0.3s)\n",
      "\n"
     ]
    },
    {
     "name": "stdout",
     "output_type": "stream",
     "text": [
      " Converting 0 blocks...\n",
      "  Converted 0 blocks to Markdown (0.0s)\n",
      "   Exported \"15fc42c7-a9e4-8088-aacd-c9a455a5e0b4.md\" in \"./publications/\"\n",
      "\n",
      "Fetching publication details for https://www.medrxiv.org/content/10.1101/2024.03.17.24304415v2.full\n",
      "\n"
     ]
    },
    {
     "name": "stderr",
     "output_type": "stream",
     "text": [
      " Retrieving Notion blocks... (0.0s)\n",
      "  Retrieved Notion blocks... (0.8s)\n",
      "\n"
     ]
    },
    {
     "name": "stdout",
     "output_type": "stream",
     "text": [
      " Converting 4 blocks...\n",
      "Downloading image.png\n",
      " Downloaded \"image.png\" -> \"9391a9da_image.png\"\n",
      "  Converted 4 blocks to Markdown (1.3s)\n",
      "   Exported \"3aa1efcf-f17c-4d49-a88a-9ffdabcc49c9.md\" in \"./publications/\"\n",
      "\n",
      "Fetching publication details for http://dx.doi.org/10.1038/s41591-023-02599-8\n",
      "\n"
     ]
    },
    {
     "name": "stderr",
     "output_type": "stream",
     "text": [
      " Retrieving Notion blocks... (0.0s)\n",
      "  Retrieved Notion blocks... (0.4s)\n",
      "\n"
     ]
    },
    {
     "name": "stdout",
     "output_type": "stream",
     "text": [
      " Converting 7 blocks...\n",
      "Downloading image.png\n",
      " Downloaded \"image.png\" -> \"00bfe8b7_image.png\"\n",
      "  Converted 7 blocks to Markdown (0.8s)\n",
      "   Exported \"144c42c7-a9e4-80a8-8425-ffc0f9cdb76d.md\" in \"./publications/\"\n",
      "\n",
      "Fetching publication details for https://doi.org/10.1186/s12916-024-03730-3\n",
      "\n"
     ]
    },
    {
     "name": "stderr",
     "output_type": "stream",
     "text": [
      " Retrieving Notion blocks... (0.0s)\n",
      "  Retrieved Notion blocks... (0.8s)\n",
      "\n"
     ]
    },
    {
     "name": "stdout",
     "output_type": "stream",
     "text": [
      " Converting 10 blocks...\n",
      "Downloading image.png\n",
      " Downloaded \"image.png\" -> \"11189edf_image.png\"\n",
      "  Converted 10 blocks to Markdown (2.2s)\n",
      "   Exported \"135c42c7-a9e4-800e-968b-de6f6f3e7b8c.md\" in \"./publications/\"\n",
      "\n",
      "Fetching publication details for https://doi.org/10.1038/s43587-024-00734-9\n",
      "\n"
     ]
    },
    {
     "name": "stderr",
     "output_type": "stream",
     "text": [
      " Retrieving Notion blocks... (0.0s)\n"
     ]
    },
    {
     "name": "stdout",
     "output_type": "stream",
     "text": [
      " Converting 15 blocks...\n",
      "  Converted 15 blocks to Markdown (0.0s)\n",
      "   Exported \"12fc42c7-a9e4-807c-8cd4-ffe82a9c6d5d.md\" in \"./publications/\"\n",
      "\n",
      "Fetching publication details for https://doi.org/10.1038/s41467-024-53832-y\n"
     ]
    },
    {
     "name": "stderr",
     "output_type": "stream",
     "text": [
      "  Retrieved Notion blocks... (0.5s)\n",
      "\n"
     ]
    },
    {
     "name": "stdout",
     "output_type": "stream",
     "text": [
      "\n"
     ]
    },
    {
     "name": "stderr",
     "output_type": "stream",
     "text": [
      " Retrieving Notion blocks... (0.0s)\n"
     ]
    },
    {
     "name": "stdout",
     "output_type": "stream",
     "text": [
      " Converting 5 blocks...\n",
      "  Converted 5 blocks to Markdown (0.0s)\n",
      "   Exported \"125c42c7-a9e4-806c-964c-eeac81f1567f.md\" in \"./publications/\"\n",
      "\n",
      "Fetching publication details for https://arxiv.org/abs/2311.08979\n",
      "2311.08979\n"
     ]
    },
    {
     "name": "stderr",
     "output_type": "stream",
     "text": [
      "  Retrieved Notion blocks... (5.3s)\n",
      "\n"
     ]
    },
    {
     "name": "stdout",
     "output_type": "stream",
     "text": [
      "\n"
     ]
    },
    {
     "name": "stderr",
     "output_type": "stream",
     "text": [
      " Retrieving Notion blocks... (0.0s)\n",
      "  Retrieved Notion blocks... (0.6s)\n",
      "\n"
     ]
    },
    {
     "name": "stdout",
     "output_type": "stream",
     "text": [
      " Converting 6 blocks...\n",
      "Downloading image.png\n",
      " Downloaded \"image.png\" -> \"cf44e859_image.png\"\n",
      "  Converted 6 blocks to Markdown (0.9s)\n",
      "   Exported \"120c42c7-a9e4-8039-baaf-e5c618103a4d.md\" in \"./publications/\"\n",
      "\n",
      "Fetching publication details for https://doi.org/10.1016/j.chom.2024.08.017\n",
      "\n"
     ]
    },
    {
     "name": "stderr",
     "output_type": "stream",
     "text": [
      " Retrieving Notion blocks... (0.0s)\n"
     ]
    },
    {
     "name": "stdout",
     "output_type": "stream",
     "text": [
      " Converting 22 blocks...\n",
      "Downloading image.png\n"
     ]
    },
    {
     "name": "stderr",
     "output_type": "stream",
     "text": [
      "  Retrieved Notion blocks... (0.8s)\n",
      "\n"
     ]
    },
    {
     "name": "stdout",
     "output_type": "stream",
     "text": [
      " Downloaded \"image.png\" -> \"71ad6e99_image.png\"\n",
      "  Converted 22 blocks to Markdown (1.1s)\n",
      "   Exported \"102c42c7-a9e4-8035-9eb6-f9dbe5250084.md\" in \"./publications/\"\n",
      "\n",
      "Fetching publication details for https://arxiv.org/abs/2408.11876\n",
      "2408.11876\n",
      "\n"
     ]
    },
    {
     "name": "stderr",
     "output_type": "stream",
     "text": [
      " Retrieving Notion blocks... (0.0s)\n"
     ]
    },
    {
     "name": "stdout",
     "output_type": "stream",
     "text": [
      " Converting 0 blocks...\n",
      "  Converted 0 blocks to Markdown (0.0s)\n",
      "   Exported \"5b632df2-b422-4e49-af55-15a5feeaa9cf.md\" in \"./publications/\"\n",
      "\n",
      "Fetching publication details for http://dx.doi.org/10.1016/j.cell.2015.11.001\n"
     ]
    },
    {
     "name": "stderr",
     "output_type": "stream",
     "text": [
      "  Retrieved Notion blocks... (0.3s)\n",
      "\n"
     ]
    },
    {
     "name": "stdout",
     "output_type": "stream",
     "text": [
      "\n"
     ]
    },
    {
     "name": "stderr",
     "output_type": "stream",
     "text": [
      " Retrieving Notion blocks... (0.0s)\n",
      "  Retrieved Notion blocks... (0.3s)\n",
      "\n"
     ]
    },
    {
     "name": "stdout",
     "output_type": "stream",
     "text": [
      " Converting 0 blocks...\n",
      "  Converted 0 blocks to Markdown (0.0s)\n",
      "   Exported \"4b235cf9-853f-49f0-8676-2117b7eb673a.md\" in \"./publications/\"\n",
      "\n",
      "Fetching publication details for http://dx.doi.org/10.1016/j.cmet.2017.05.002\n",
      "\n"
     ]
    },
    {
     "name": "stderr",
     "output_type": "stream",
     "text": [
      " Retrieving Notion blocks... (0.0s)\n",
      "  Retrieved Notion blocks... (0.3s)\n",
      "\n"
     ]
    },
    {
     "name": "stdout",
     "output_type": "stream",
     "text": [
      " Converting 0 blocks...\n",
      "  Converted 0 blocks to Markdown (0.0s)\n",
      "   Exported \"1dd59130-bc80-43ba-b3ed-25559c242a38.md\" in \"./publications/\"\n",
      "\n",
      "Fetching publication details for http://dx.doi.org/10.1038/nature25973\n",
      "\n"
     ]
    },
    {
     "name": "stderr",
     "output_type": "stream",
     "text": [
      " Retrieving Notion blocks... (0.0s)\n",
      "  Retrieved Notion blocks... (0.3s)\n",
      "\n"
     ]
    },
    {
     "name": "stdout",
     "output_type": "stream",
     "text": [
      " Converting 0 blocks...\n",
      "  Converted 0 blocks to Markdown (0.0s)\n",
      "   Exported \"2a21980a-e72d-4533-9313-303678fd412e.md\" in \"./publications/\"\n",
      "\n",
      "Fetching publication details for http://dx.doi.org/10.1016/j.mib.2018.05.003\n",
      "\n"
     ]
    },
    {
     "name": "stderr",
     "output_type": "stream",
     "text": [
      " Retrieving Notion blocks... (0.0s)\n"
     ]
    },
    {
     "name": "stdout",
     "output_type": "stream",
     "text": [
      " Converting 0 blocks...\n",
      "  Converted 0 blocks to Markdown (0.0s)\n",
      "   Exported \"368fcea0-0a5d-4cb1-8bcf-cce629386ab8.md\" in \"./publications/\"\n",
      "\n",
      "Fetching publication details for http://dx.doi.org/10.1038/s41586-019-1065-y\n"
     ]
    },
    {
     "name": "stderr",
     "output_type": "stream",
     "text": [
      "  Retrieved Notion blocks... (1.2s)\n",
      "\n"
     ]
    },
    {
     "name": "stdout",
     "output_type": "stream",
     "text": [
      "\n"
     ]
    },
    {
     "name": "stderr",
     "output_type": "stream",
     "text": [
      " Retrieving Notion blocks... (0.0s)\n"
     ]
    },
    {
     "name": "stdout",
     "output_type": "stream",
     "text": [
      " Converting 0 blocks...\n",
      "  Converted 0 blocks to Markdown (0.0s)\n",
      "   Exported \"384ddec8-c5c0-43da-9600-1ab53c7f93e0.md\" in \"./publications/\"\n",
      "\n",
      "Fetching publication details for http://dx.doi.org/10.1038/d41586-020-00200-7\n"
     ]
    },
    {
     "name": "stderr",
     "output_type": "stream",
     "text": [
      "  Retrieved Notion blocks... (0.3s)\n",
      "\n"
     ]
    },
    {
     "name": "stdout",
     "output_type": "stream",
     "text": [
      "\n"
     ]
    },
    {
     "name": "stderr",
     "output_type": "stream",
     "text": [
      " Retrieving Notion blocks... (0.0s)\n",
      "  Retrieved Notion blocks... (0.3s)\n",
      "\n"
     ]
    },
    {
     "name": "stdout",
     "output_type": "stream",
     "text": [
      " Converting 0 blocks...\n",
      "  Converted 0 blocks to Markdown (0.0s)\n",
      "   Exported \"8dfba73a-865f-4071-aa95-c081252a0d95.md\" in \"./publications/\"\n",
      "\n",
      "Fetching publication details for http://dx.doi.org/10.1038/s41591-019-0439-x\n",
      "\n"
     ]
    },
    {
     "name": "stderr",
     "output_type": "stream",
     "text": [
      " Retrieving Notion blocks... (0.0s)\n",
      "  Retrieved Notion blocks... (0.3s)\n",
      "\n"
     ]
    },
    {
     "name": "stdout",
     "output_type": "stream",
     "text": [
      " Converting 0 blocks...\n",
      "  Converted 0 blocks to Markdown (0.0s)\n",
      "   Exported \"d6c7f6b9-f967-4a10-8e66-629e400f4e42.md\" in \"./publications/\"\n",
      "\n",
      "Fetching publication details for http://dx.doi.org/10.1038/s41591-019-0724-8\n",
      "\n"
     ]
    },
    {
     "name": "stderr",
     "output_type": "stream",
     "text": [
      " Retrieving Notion blocks... (0.0s)\n",
      "  Retrieved Notion blocks... (0.3s)\n",
      "\n"
     ]
    },
    {
     "name": "stdout",
     "output_type": "stream",
     "text": [
      " Converting 0 blocks...\n",
      "  Converted 0 blocks to Markdown (0.0s)\n",
      "   Exported \"1534de69-4df4-4c1c-945b-f8385a71a998.md\" in \"./publications/\"\n",
      "\n",
      "Fetching publication details for http://dx.doi.org/10.1136/bmjopen-2020-037859\n",
      "\n"
     ]
    },
    {
     "name": "stderr",
     "output_type": "stream",
     "text": [
      " Retrieving Notion blocks... (0.0s)\n",
      "  Retrieved Notion blocks... (0.3s)\n",
      "\n"
     ]
    },
    {
     "name": "stdout",
     "output_type": "stream",
     "text": [
      " Converting 0 blocks...\n",
      "  Converted 0 blocks to Markdown (0.0s)\n",
      "   Exported \"3c6bf2e4-c504-4212-89d8-58048e795319.md\" in \"./publications/\"\n",
      "\n",
      "Fetching publication details for http://dx.doi.org/10.1038/s41586-020-2896-2\n",
      "\n"
     ]
    },
    {
     "name": "stderr",
     "output_type": "stream",
     "text": [
      " Retrieving Notion blocks... (0.0s)\n",
      "  Retrieved Notion blocks... (0.3s)\n",
      "\n"
     ]
    },
    {
     "name": "stdout",
     "output_type": "stream",
     "text": [
      " Converting 0 blocks...\n",
      "  Converted 0 blocks to Markdown (0.0s)\n",
      "   Exported \"94395495-9ce7-4d57-bf56-ba1a91aa4f50.md\" in \"./publications/\"\n",
      "\n",
      "Fetching publication details for http://dx.doi.org/10.1089/dia.2019.0435\n",
      "\n"
     ]
    },
    {
     "name": "stderr",
     "output_type": "stream",
     "text": [
      " Retrieving Notion blocks... (0.0s)\n",
      "  Retrieved Notion blocks... (0.3s)\n",
      "\n"
     ]
    },
    {
     "name": "stdout",
     "output_type": "stream",
     "text": [
      " Converting 0 blocks...\n",
      "  Converted 0 blocks to Markdown (0.0s)\n",
      "   Exported \"1215a04e-d02c-4fab-8ce7-6a4ec35781f2.md\" in \"./publications/\"\n",
      "\n",
      "Fetching publication details for http://dx.doi.org/10.1038/s41591-021-01409-3\n",
      "\n"
     ]
    },
    {
     "name": "stderr",
     "output_type": "stream",
     "text": [
      " Retrieving Notion blocks... (0.0s)\n"
     ]
    },
    {
     "name": "stdout",
     "output_type": "stream",
     "text": [
      " Converting 0 blocks...\n",
      "  Converted 0 blocks to Markdown (0.0s)\n",
      "   Exported \"b326aa2c-22cc-4096-afde-97ed1fd2c5d6.md\" in \"./publications/\"\n",
      "\n",
      "Fetching publication details for http://dx.doi.org/10.2337/DC21-0162\n"
     ]
    },
    {
     "name": "stderr",
     "output_type": "stream",
     "text": [
      "  Retrieved Notion blocks... (0.3s)\n",
      "\n"
     ]
    },
    {
     "name": "stdout",
     "output_type": "stream",
     "text": [
      "\n"
     ]
    },
    {
     "name": "stderr",
     "output_type": "stream",
     "text": [
      " Retrieving Notion blocks... (0.0s)\n",
      "  Retrieved Notion blocks... (0.3s)\n",
      "\n"
     ]
    },
    {
     "name": "stdout",
     "output_type": "stream",
     "text": [
      " Converting 0 blocks...\n",
      "  Converted 0 blocks to Markdown (0.0s)\n",
      "   Exported \"61af5278-39ef-4363-854c-13d491f15987.md\" in \"./publications/\"\n",
      "\n",
      "Fetching publication details for http://dx.doi.org/10.1007/s10654-021-00753-5\n",
      "\n"
     ]
    },
    {
     "name": "stderr",
     "output_type": "stream",
     "text": [
      " Retrieving Notion blocks... (0.0s)\n",
      "  Retrieved Notion blocks... (0.3s)\n",
      "\n"
     ]
    },
    {
     "name": "stdout",
     "output_type": "stream",
     "text": [
      " Converting 0 blocks...\n",
      "  Converted 0 blocks to Markdown (0.0s)\n",
      "   Exported \"61e9a0b7-e087-4c13-b644-93062b06a9ab.md\" in \"./publications/\"\n",
      "\n",
      "Fetching publication details for http://dx.doi.org/10.1038/s41591-022-01686-6\n",
      "\n"
     ]
    },
    {
     "name": "stderr",
     "output_type": "stream",
     "text": [
      " Retrieving Notion blocks... (0.0s)\n"
     ]
    },
    {
     "name": "stdout",
     "output_type": "stream",
     "text": [
      " Converting 0 blocks...\n",
      "  Converted 0 blocks to Markdown (0.0s)\n",
      "   Exported \"0018b2d3-d9cc-4350-a938-aefb31f9b07f.md\" in \"./publications/\"\n",
      "\n",
      "Fetching publication details for http://dx.doi.org/10.2337/dc21-1656\n"
     ]
    },
    {
     "name": "stderr",
     "output_type": "stream",
     "text": [
      "  Retrieved Notion blocks... (0.3s)\n",
      "\n"
     ]
    },
    {
     "name": "stdout",
     "output_type": "stream",
     "text": [
      "\n"
     ]
    },
    {
     "name": "stderr",
     "output_type": "stream",
     "text": [
      " Retrieving Notion blocks... (0.0s)\n"
     ]
    },
    {
     "name": "stdout",
     "output_type": "stream",
     "text": [
      " Converting 0 blocks...\n",
      "  Converted 0 blocks to Markdown (0.0s)\n",
      "   Exported \"20076cab-601f-41a8-882d-fe1cc674d6a5.md\" in \"./publications/\"\n",
      "\n",
      "Fetching publication details for http://dx.doi.org/10.2337/dc21-1048\n"
     ]
    },
    {
     "name": "stderr",
     "output_type": "stream",
     "text": [
      "  Retrieved Notion blocks... (0.4s)\n",
      "\n"
     ]
    },
    {
     "name": "stdout",
     "output_type": "stream",
     "text": [
      "\n"
     ]
    },
    {
     "name": "stderr",
     "output_type": "stream",
     "text": [
      " Retrieving Notion blocks... (0.0s)\n",
      "  Retrieved Notion blocks... (0.3s)\n",
      "\n"
     ]
    },
    {
     "name": "stdout",
     "output_type": "stream",
     "text": [
      " Converting 0 blocks...\n",
      "  Converted 0 blocks to Markdown (0.0s)\n",
      "   Exported \"6f8db522-12bb-4409-893d-23f4791419ce.md\" in \"./publications/\"\n",
      "\n",
      "Fetching publication details for http://dx.doi.org/10.1371/journal.pone.0265756\n",
      "\n"
     ]
    },
    {
     "name": "stderr",
     "output_type": "stream",
     "text": [
      " Retrieving Notion blocks... (0.0s)\n"
     ]
    },
    {
     "name": "stdout",
     "output_type": "stream",
     "text": [
      " Converting 0 blocks...\n",
      "  Converted 0 blocks to Markdown (0.0s)\n",
      "   Exported \"b2e2b71f-acec-4b3e-8d9c-e9ad11ad4326.md\" in \"./publications/\"\n",
      "\n",
      "Fetching publication details for http://dx.doi.org/10.1186/s12916-022-02254-y\n"
     ]
    },
    {
     "name": "stderr",
     "output_type": "stream",
     "text": [
      "  Retrieved Notion blocks... (0.4s)\n",
      "\n"
     ]
    },
    {
     "name": "stdout",
     "output_type": "stream",
     "text": [
      "\n"
     ]
    },
    {
     "name": "stderr",
     "output_type": "stream",
     "text": [
      " Retrieving Notion blocks... (0.0s)\n",
      "  Retrieved Notion blocks... (0.3s)\n",
      "\n"
     ]
    },
    {
     "name": "stdout",
     "output_type": "stream",
     "text": [
      " Converting 0 blocks...\n",
      "  Converted 0 blocks to Markdown (0.0s)\n",
      "   Exported \"66f69cc3-2d9a-4f0c-87b6-7f29749392e6.md\" in \"./publications/\"\n",
      "\n",
      "Fetching publication details for http://dx.doi.org/10.1016/j.cell.2022.07.016\n",
      "\n"
     ]
    },
    {
     "name": "stderr",
     "output_type": "stream",
     "text": [
      " Retrieving Notion blocks... (0.0s)\n"
     ]
    },
    {
     "name": "stdout",
     "output_type": "stream",
     "text": [
      " Converting 0 blocks...\n",
      "  Converted 0 blocks to Markdown (0.0s)\n",
      "   Exported \"75ed7d8b-e171-4ec5-8fa6-5efe73ecc0cc.md\" in \"./publications/\"\n",
      "\n",
      "Fetching publication details for http://dx.doi.org/10.1038/s41467-022-31502-1\n"
     ]
    },
    {
     "name": "stderr",
     "output_type": "stream",
     "text": [
      "  Retrieved Notion blocks... (0.3s)\n",
      "\n"
     ]
    },
    {
     "name": "stdout",
     "output_type": "stream",
     "text": [
      "\n"
     ]
    },
    {
     "name": "stderr",
     "output_type": "stream",
     "text": [
      " Retrieving Notion blocks... (0.0s)\n"
     ]
    },
    {
     "name": "stdout",
     "output_type": "stream",
     "text": [
      " Converting 0 blocks...\n",
      "  Converted 0 blocks to Markdown (0.0s)\n",
      "   Exported \"85d0fc4e-d054-44d7-93ab-e2bbb584a2c5.md\" in \"./publications/\"\n",
      "\n",
      "Fetching publication details for http://dx.doi.org/10.7554/eLife.71862\n"
     ]
    },
    {
     "name": "stderr",
     "output_type": "stream",
     "text": [
      "  Retrieved Notion blocks... (0.3s)\n",
      "\n"
     ]
    },
    {
     "name": "stdout",
     "output_type": "stream",
     "text": [
      "\n"
     ]
    },
    {
     "name": "stderr",
     "output_type": "stream",
     "text": [
      " Retrieving Notion blocks... (0.0s)\n"
     ]
    },
    {
     "name": "stdout",
     "output_type": "stream",
     "text": [
      " Converting 0 blocks...\n",
      "  Converted 0 blocks to Markdown (0.0s)\n",
      "   Exported \"91e207f5-5090-42c7-b84b-d6ad10589acf.md\" in \"./publications/\"\n",
      "\n",
      "Fetching publication details for http://dx.doi.org/10.1136/bmjopen-2022-062498\n"
     ]
    },
    {
     "name": "stderr",
     "output_type": "stream",
     "text": [
      "  Retrieved Notion blocks... (0.8s)\n",
      "\n"
     ]
    },
    {
     "name": "stdout",
     "output_type": "stream",
     "text": [
      "\n"
     ]
    },
    {
     "name": "stderr",
     "output_type": "stream",
     "text": [
      " Retrieving Notion blocks... (0.0s)\n"
     ]
    },
    {
     "name": "stdout",
     "output_type": "stream",
     "text": [
      " Converting 5 blocks...\n",
      "Downloading image.png\n"
     ]
    },
    {
     "name": "stderr",
     "output_type": "stream",
     "text": [
      "  Retrieved Notion blocks... (0.6s)\n",
      "\n"
     ]
    },
    {
     "name": "stdout",
     "output_type": "stream",
     "text": [
      " Downloaded \"image.png\" -> \"82c84e4c_image.png\"\n",
      "  Converted 5 blocks to Markdown (1.0s)\n",
      "   Exported \"91e6897a-de37-4e4f-ac99-f07ccd6e87e0.md\" in \"./publications/\"\n",
      "\n",
      "Fetching publication details for http://dx.doi.org/10.1016/j.cmet.2023.04.002\n",
      "\n"
     ]
    },
    {
     "name": "stderr",
     "output_type": "stream",
     "text": [
      " Retrieving Notion blocks... (0.0s)\n",
      "  Retrieved Notion blocks... (0.4s)\n",
      "\n"
     ]
    },
    {
     "name": "stdout",
     "output_type": "stream",
     "text": [
      " Converting 5 blocks...\n",
      "Downloading image.png\n",
      " Downloaded \"image.png\" -> \"93f451b7_image.png\"\n",
      "  Converted 5 blocks to Markdown (0.9s)\n",
      "   Exported \"010dda05-6716-4d0a-a0a5-1f1a38ea05d7.md\" in \"./publications/\"\n",
      "\n",
      "Fetching publication details for http://dx.doi.org/10.1038/s41467-023-41042-x\n",
      "\n"
     ]
    },
    {
     "name": "stderr",
     "output_type": "stream",
     "text": [
      " Retrieving Notion blocks... (0.0s)\n"
     ]
    },
    {
     "name": "stdout",
     "output_type": "stream",
     "text": [
      " Converting 0 blocks...\n",
      "  Converted 0 blocks to Markdown (0.0s)\n",
      "   Exported \"4fd3ee73-68e0-4b1e-bf2c-a35b4e4f80d3.md\" in \"./publications/\"\n",
      "\n",
      "Fetching publication details for http://dx.doi.org/10.1016/j.medj.2023.12.001\n"
     ]
    },
    {
     "name": "stderr",
     "output_type": "stream",
     "text": [
      "  Retrieved Notion blocks... (0.5s)\n",
      "\n"
     ]
    },
    {
     "name": "stdout",
     "output_type": "stream",
     "text": [
      "\n"
     ]
    },
    {
     "name": "stderr",
     "output_type": "stream",
     "text": [
      " Retrieving Notion blocks... (0.0s)\n",
      "  Retrieved Notion blocks... (0.3s)\n",
      "\n"
     ]
    },
    {
     "name": "stdout",
     "output_type": "stream",
     "text": [
      " Converting 0 blocks...\n",
      "  Converted 0 blocks to Markdown (0.0s)\n",
      "   Exported \"bb8ea994-5e82-4c4a-80aa-175c474a9e09.md\" in \"./publications/\"\n",
      "\n",
      "Fetching publication details for http://dx.doi.org/10.1136/gutjnl-2022-329201\n",
      "\n"
     ]
    },
    {
     "name": "stderr",
     "output_type": "stream",
     "text": [
      " Retrieving Notion blocks... (0.0s)\n",
      "  Retrieved Notion blocks... (0.8s)\n",
      "\n"
     ]
    },
    {
     "name": "stdout",
     "output_type": "stream",
     "text": [
      " Converting 6 blocks...\n",
      "  Converted 6 blocks to Markdown (0.0s)\n",
      "   Exported \"fedb27b4-d1e1-4f27-84d2-c85ecf3e7c69.md\" in \"./publications/\"\n",
      "\n",
      "Fetching publication details for https://doi.org/10.1038/s41591-024-02997-6\n"
     ]
    },
    {
     "data": {
      "text/plain": [
       "0     None\n",
       "1     None\n",
       "2     None\n",
       "3     None\n",
       "4     None\n",
       "5     None\n",
       "6     None\n",
       "7     None\n",
       "8     None\n",
       "9     None\n",
       "10    None\n",
       "11    None\n",
       "12    None\n",
       "15    None\n",
       "22    None\n",
       "23    None\n",
       "30    None\n",
       "32    None\n",
       "33    None\n",
       "35    None\n",
       "37    None\n",
       "38    None\n",
       "40    None\n",
       "46    None\n",
       "48    None\n",
       "50    None\n",
       "51    None\n",
       "53    None\n",
       "54    None\n",
       "57    None\n",
       "58    None\n",
       "59    None\n",
       "60    None\n",
       "61    None\n",
       "63    None\n",
       "64    None\n",
       "65    None\n",
       "66    None\n",
       "67    None\n",
       "69    None\n",
       "dtype: object"
      ]
     },
     "execution_count": 4,
     "metadata": {},
     "output_type": "execute_result"
    }
   ],
   "source": [
    "# Process first publication as example        \n",
    "pubs.apply(process_publication, axis=1, notion_token=NOTION_TOKEN)"
   ]
  },
  {
   "cell_type": "code",
   "execution_count": 5,
   "metadata": {},
   "outputs": [],
   "source": [
    "move_publications_to_website()"
   ]
  },
  {
   "cell_type": "markdown",
   "metadata": {},
   "source": [
    "Now, go to `pheno_knowledge_base` and run `quarto render` to update the website (or `quarto preview` to preview it)."
   ]
  },
  {
   "cell_type": "code",
   "execution_count": null,
   "metadata": {},
   "outputs": [],
   "source": []
  }
 ],
 "metadata": {
  "kernelspec": {
   "display_name": "base",
   "language": "python",
   "name": "python3"
  },
  "language_info": {
   "codemirror_mode": {
    "name": "ipython",
    "version": 3
   },
   "file_extension": ".py",
   "mimetype": "text/x-python",
   "name": "python",
   "nbconvert_exporter": "python",
   "pygments_lexer": "ipython3",
   "version": "3.10.11"
  }
 },
 "nbformat": 4,
 "nbformat_minor": 2
}
