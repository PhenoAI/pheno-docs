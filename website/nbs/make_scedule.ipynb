{
 "cells": [
  {
   "cell_type": "code",
   "execution_count": 1,
   "metadata": {},
   "outputs": [],
   "source": [
    "import pandas as pd\n",
    "from IPython.display import Markdown\n",
    "import os"
   ]
  },
  {
   "cell_type": "code",
   "execution_count": 2,
   "metadata": {},
   "outputs": [],
   "source": [
    "schedule_day1 = [\n",
    "    {\"Day\": 1, \"Time\": \"09:00\", \"Event\": \"Registration and coffee\"},\n",
    "    {\"Day\": 1, \"Time\": \"10:00\", \"Event\": \"Opening ceremony and keynote speech\"},\n",
    "    {\"Day\": 1, \"Time\": \"10:30\", \"Event\": \"Platform onboarding\"},\n",
    "    {\"Day\": 1, \"Time\": \"10:45\", \"Event\": \"Mentor presentations (datasets intro)\"},\n",
    "    {\"Day\": 1, \"Time\": \"11:30\", \"Event\": \"Kickoff teamwork begins\"},\n",
    "    {\"Day\": 1, \"Time\": \"12:30\", \"Event\": \"Lunch\"},\n",
    "    {\"Day\": 1, \"Time\": \"13:30\", \"Event\": \"Check-ins and mentorship group meetings\"},\n",
    "    {\"Day\": 1, \"Time\": \"17:30\", \"Event\": \"Leaderboard submission (Predictive Challenge)\"},\n",
    "    {\"Day\": 1, \"Time\": \"18:00\", \"Event\": \"Dinner\"},\n",
    "    {\"Day\": 1, \"Time\": \"19:00\", \"Event\": \"Work continues\"},\n",
    "]\n",
    "\n",
    "schedule_day2 = [\n",
    "    {\"Day\": 2, \"Time\": \"07:30\", \"Event\": \"Leaderboard submission (Predictive Challenge)\"},\n",
    "    {\"Day\": 2, \"Time\": \"08:00\", \"Event\": \"Breakfast and final check-ins\"},\n",
    "    {\"Day\": 2, \"Time\": \"10:30\", \"Event\": \"Predictive + Creative Challenge final submission deadline\"},\n",
    "    {\"Day\": 2, \"Time\": \"11:00\", \"Event\": \"Team presentations\"},\n",
    "    {\"Day\": 2, \"Time\": \"13:00\", \"Event\": \"Lunch and Judging\"},\n",
    "    {\"Day\": 2, \"Time\": \"15:00\", \"Event\": \"Awards ceremony and closing remarks\"},\n",
    "]"
   ]
  },
  {
   "cell_type": "code",
   "execution_count": 3,
   "metadata": {},
   "outputs": [
    {
     "data": {
      "text/markdown": [
       "| Time   | Event                                         |\n",
       "|--------|-----------------------------------------------|\n",
       "| 09:00  | Registration and coffee                       |\n",
       "| 10:00  | Opening ceremony and keynote speech           |\n",
       "| 10:30  | Platform onboarding                           |\n",
       "| 10:45  | Mentor presentations (datasets intro)         |\n",
       "| 11:30  | Kickoff teamwork begins                       |\n",
       "| 12:30  | Lunch                                         |\n",
       "| 13:30  | Check-ins and mentorship group meetings       |\n",
       "| 17:30  | Leaderboard submission (Predictive Challenge) |\n",
       "| 18:00  | Dinner                                        |\n",
       "| 19:00  | Work continues                                |"
      ],
      "text/plain": [
       "<IPython.core.display.Markdown object>"
      ]
     },
     "metadata": {},
     "output_type": "display_data"
    },
    {
     "data": {
      "text/markdown": [
       "| Time   | Event                                               |\n",
       "|--------|-----------------------------------------------------|\n",
       "| 07:30  | Leaderboard submission (Predictive Challenge)       |\n",
       "| 08:00  | Breakfast and final check-ins                       |\n",
       "| 10:30  | Predictive + Creative Challenge submission deadline |\n",
       "| 11:00  | Team presentations                                  |\n",
       "| 13:00  | Lunch and Judging                                   |\n",
       "| 15:00  | Awards ceremony and closing remarks                 |"
      ],
      "text/plain": [
       "<IPython.core.display.Markdown object>"
      ]
     },
     "metadata": {},
     "output_type": "display_data"
    }
   ],
   "source": [
    "schedule_df1 = pd.DataFrame(schedule_day1).set_index(\"Day\")\n",
    "markdown_table1 = schedule_df1.to_markdown(index=False, tablefmt=\"github\")\n",
    "display(Markdown(markdown_table1))\n",
    "\n",
    "\n",
    "schedule_df2 = pd.DataFrame(schedule_day2).set_index(\"Day\")\n",
    "markdown_table2 = schedule_df2.to_markdown(index=False, tablefmt=\"github\")\n",
    "display(Markdown(markdown_table2))"
   ]
  },
  {
   "cell_type": "code",
   "execution_count": 4,
   "metadata": {},
   "outputs": [],
   "source": [
    "# Save to schedule.md\n",
    "path = 'schedule.md'\n",
    "\n",
    "if os.path.isfile(path):\n",
    "    with open(path, 'w') as f:\n",
    "        f.truncate(0)  # Erase the contents of the file\n",
    "else:\n",
    "    open(path, 'a').close()  # Create an empty file\n",
    "\n",
    "with open(path, 'a') as f:\n",
    "    f.write('# Schedule\\n\\n')  # Markdown title\n",
    "    f.write(\"The The Human Phenotype Project MBZUAI Hackathon 2023\\n\\n\")\n",
    "    f.write(\"## Day 1 (2/5)\\n\\n\")  # Markdown title\n",
    "    f.write(markdown_table1)  # Markdown table\n",
    "    f.write(\"\\n\\n## Day 2 (3/5)\\n\\n\")  # Markdown title\n",
    "    f.write(markdown_table2)  # Markdown table"
   ]
  },
  {
   "cell_type": "code",
   "execution_count": null,
   "metadata": {},
   "outputs": [],
   "source": []
  }
 ],
 "metadata": {
  "kernelspec": {
   "display_name": "python3",
   "language": "python",
   "name": "python3"
  },
  "language_info": {
   "codemirror_mode": {
    "name": "ipython",
    "version": 3
   },
   "file_extension": ".py",
   "mimetype": "text/x-python",
   "name": "python",
   "nbconvert_exporter": "python",
   "pygments_lexer": "ipython3",
   "version": "3.9.13"
  }
 },
 "nbformat": 4,
 "nbformat_minor": 2
}
