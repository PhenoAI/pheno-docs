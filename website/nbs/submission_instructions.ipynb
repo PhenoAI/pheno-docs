{
 "cells": [
  {
   "cell_type": "raw",
   "metadata": {},
   "source": [
    "---\n",
    "output-file: submission_instructions.html\n",
    "title: Submission instructions\n",
    "\n",
    "---"
   ]
  },
  {
   "attachments": {},
   "cell_type": "markdown",
   "metadata": {},
   "source": [
    "# Submission instructions"
   ]
  },
  {
   "attachments": {},
   "cell_type": "markdown",
   "metadata": {},
   "source": [
    "## Dataframe format\n",
    "\n",
    "The submission includes a single file that contains the following columns:\n",
    "\n",
    "- `participant_id`  \n",
    "- `cohort`  \n",
    "- `research_stage`  \n",
    "- `predicted_age_at_research_stage`  \n",
    "\n",
    "Here is an example for a valid prediction file:"
   ]
  },
  {
   "cell_type": "code",
   "execution_count": 31,
   "metadata": {},
   "outputs": [
    {
     "data": {
      "text/html": [
       "<div>\n",
       "<style scoped>\n",
       "    .dataframe tbody tr th:only-of-type {\n",
       "        vertical-align: middle;\n",
       "    }\n",
       "\n",
       "    .dataframe tbody tr th {\n",
       "        vertical-align: top;\n",
       "    }\n",
       "\n",
       "    .dataframe thead th {\n",
       "        text-align: right;\n",
       "    }\n",
       "</style>\n",
       "<table border=\"1\" class=\"dataframe\">\n",
       "  <thead>\n",
       "    <tr style=\"text-align: right;\">\n",
       "      <th></th>\n",
       "      <th>participant_id</th>\n",
       "      <th>cohort</th>\n",
       "      <th>research_stage</th>\n",
       "      <th>predicted_age_at_research_stage</th>\n",
       "    </tr>\n",
       "  </thead>\n",
       "  <tbody>\n",
       "    <tr>\n",
       "      <th>0</th>\n",
       "      <td>0</td>\n",
       "      <td>10k</td>\n",
       "      <td>00_00_visit</td>\n",
       "      <td>54.6</td>\n",
       "    </tr>\n",
       "    <tr>\n",
       "      <th>1</th>\n",
       "      <td>0</td>\n",
       "      <td>10k</td>\n",
       "      <td>02_00_visit</td>\n",
       "      <td>56.8</td>\n",
       "    </tr>\n",
       "    <tr>\n",
       "      <th>2</th>\n",
       "      <td>0</td>\n",
       "      <td>10k</td>\n",
       "      <td>01_00_call</td>\n",
       "      <td>55.8</td>\n",
       "    </tr>\n",
       "    <tr>\n",
       "      <th>3</th>\n",
       "      <td>1</td>\n",
       "      <td>10k</td>\n",
       "      <td>04_00_visit</td>\n",
       "      <td>49.2</td>\n",
       "    </tr>\n",
       "    <tr>\n",
       "      <th>4</th>\n",
       "      <td>1</td>\n",
       "      <td>10k</td>\n",
       "      <td>02_00_visit</td>\n",
       "      <td>47.8</td>\n",
       "    </tr>\n",
       "    <tr>\n",
       "      <th>5</th>\n",
       "      <td>1</td>\n",
       "      <td>10k</td>\n",
       "      <td>00_00_visit</td>\n",
       "      <td>45.2</td>\n",
       "    </tr>\n",
       "    <tr>\n",
       "      <th>6</th>\n",
       "      <td>1</td>\n",
       "      <td>10k</td>\n",
       "      <td>01_00_call</td>\n",
       "      <td>46.9</td>\n",
       "    </tr>\n",
       "    <tr>\n",
       "      <th>7</th>\n",
       "      <td>1</td>\n",
       "      <td>10k</td>\n",
       "      <td>03_00_call</td>\n",
       "      <td>48.7</td>\n",
       "    </tr>\n",
       "  </tbody>\n",
       "</table>\n",
       "</div>"
      ],
      "text/plain": [
       "   participant_id cohort research_stage  predicted_age_at_research_stage\n",
       "0               0    10k    00_00_visit                             54.6\n",
       "1               0    10k    02_00_visit                             56.8\n",
       "2               0    10k     01_00_call                             55.8\n",
       "3               1    10k    04_00_visit                             49.2\n",
       "4               1    10k    02_00_visit                             47.8\n",
       "5               1    10k    00_00_visit                             45.2\n",
       "6               1    10k     01_00_call                             46.9\n",
       "7               1    10k     03_00_call                             48.7"
      ]
     },
     "execution_count": 31,
     "metadata": {},
     "output_type": "execute_result"
    }
   ],
   "source": [
    "import pandas as pd\n",
    "pd.read_csv('examples/group_1__test_final.csv')"
   ]
  },
  {
   "attachments": {},
   "cell_type": "markdown",
   "metadata": {},
   "source": [
    "## File naming\n",
    "\n",
    "The file is saved a CSV with the following name template:\n",
    "\n",
    "`group_{0}__{test01}.csv`  \n",
    "where replace {0} with your group number and {test01} with the current test set name (ask mentors).\n",
    "\n",
    "If you are unsure what your group number is you can run the following code:\n",
    "\n",
    "```python\n",
    "group = glob('/home/ec2-user/studies/group*')[0].split('/')[-1]\n",
    "```\n",
    "\n",
    "See also the `example_notebooks/prediction_example.ipynb` notebook that includes relevant code for submission (including file naming)."
   ]
  },
  {
   "cell_type": "code",
   "execution_count": 34,
   "metadata": {},
   "outputs": [],
   "source": [
    "import os\n",
    "\n",
    "def validate_y_pred(path_pred: str) -> None:\n",
    "    \"\"\"\n",
    "    Validates the input y_pred pandas Series.\n",
    "    \n",
    "    :path_pred: The path to the predictions file.\n",
    "    \n",
    "    Returns the y_pred pandas Series.\n",
    "    \"\"\"\n",
    "    required_levels = ['participant_id', 'cohort', 'research_stage', 'predicted_age_at_research_stage']\n",
    "    assert os.path.exists(path_pred), 'The predictions file does not exist.'\n",
    "    y_pred = pd.read_csv(path_pred)\n",
    "    basename = os.path.basename(path_pred)\n",
    "    group, subset, *_ = basename.split('.')[0].split(\"__\")\n",
    "    print(f'group: {group}\\nsubset: {subset}')\n",
    "\n",
    "    # Check if the series has a multiindex with required levels\n",
    "    if not set(required_levels).issubset(set(y_pred.columns)):\n",
    "        raise ValueError(f\"y_pred should have at least columns {required_levels}.\")\n",
    "\n",
    "    y_pred = y_pred.set_index(required_levels[:-1])[required_levels[-1]]\n",
    "\n",
    "    if not isinstance(y_pred.index, pd.MultiIndex):\n",
    "        raise ValueError(\"y_pred should have a MultiIndex.\")\n",
    "\n",
    "    # Check if the series has unique indices per row\n",
    "    if not y_pred.index.is_unique:\n",
    "        raise ValueError(\"y_pred should have unique indices per row.\")\n",
    "\n",
    "    # Check if the series has numerical dtype\n",
    "    if not pd.api.types.is_numeric_dtype(y_pred.dtype):\n",
    "        raise ValueError(\"The values in y_pred should have a numerical dtype.\")\n",
    "\n",
    "    # Check if the series has no missing values\n",
    "    if y_pred.isna().any():\n",
    "        raise ValueError(\"y_pred should not have missing values.\")\n",
    "\n",
    "    # Check if the series has numerical values between 0 and 200\n",
    "    if not (y_pred >= 0).all() or not (y_pred <= 200).all():\n",
    "        raise ValueError(\"The values in y_pred should be between 0 and 200.\")\n",
    "\n",
    "    return y_pred"
   ]
  },
  {
   "attachments": {},
   "cell_type": "markdown",
   "metadata": {},
   "source": [
    "## Validating the output\n",
    "\n",
    "After creating the file, validate it with the following function. It will check the file name and its content. Make sure that the printed group name and subset match your group and the current submission."
   ]
  },
  {
   "cell_type": "code",
   "execution_count": 35,
   "metadata": {},
   "outputs": [
    {
     "name": "stdout",
     "output_type": "stream",
     "text": [
      "group: group_1\n",
      "subset: test01\n"
     ]
    },
    {
     "data": {
      "text/plain": [
       "participant_id  cohort  research_stage\n",
       "0               10k     00_00_visit       54.6\n",
       "                        02_00_visit       56.8\n",
       "                        01_00_call        55.8\n",
       "1               10k     04_00_visit       49.2\n",
       "                        02_00_visit       47.8\n",
       "                        00_00_visit       45.2\n",
       "                        01_00_call        46.9\n",
       "                        03_00_call        48.7\n",
       "Name: predicted_age_at_research_stage, dtype: float64"
      ]
     },
     "execution_count": 35,
     "metadata": {},
     "output_type": "execute_result"
    }
   ],
   "source": [
    "validate_y_pred('examples/group_1__test_final.csv')"
   ]
  },
  {
   "attachments": {},
   "cell_type": "markdown",
   "metadata": {},
   "source": [
    "## Uploading\n",
    "\n",
    "Once the file has been created with the predictions on the test set, it is submitted through the \"egress\" folder. It is located under the studies folder, and can be detected with the following code:\n",
    "\n",
    "```python\n",
    "egress_path = glob('/home/ec2-user/studies/*egress*')[0]\n",
    "```\n",
    "\n",
    "Make sure that the submission file is saved in this folder."
   ]
  },
  {
   "attachments": {},
   "cell_type": "markdown",
   "metadata": {},
   "source": [
    "## Finalizing the submission\n",
    "\n",
    "Once the file is in the egress folder on the platform.\n",
    "\n",
    "1. Go to the [Workspace page](https://mbzuai.pheno.ai/workspaces) on the platofrm console.\n",
    "2. Locate your user's current workspace.\n",
    "3. Press on the Egress Store button.\n",
    "4. Make sure that your submission file is listed.\n",
    "5. Press on Submit Egress Request. The hackathon team will receive an email notifying on your submission."
   ]
  },
  {
   "cell_type": "markdown",
   "metadata": {},
   "source": []
  }
 ],
 "metadata": {
  "kernelspec": {
   "display_name": "Python 3",
   "language": "python",
   "name": "python3"
  },
  "language_info": {
   "codemirror_mode": {
    "name": "ipython",
    "version": 3
   },
   "file_extension": ".py",
   "mimetype": "text/x-python",
   "name": "python",
   "nbconvert_exporter": "python",
   "pygments_lexer": "ipython3",
   "version": "3.10.10"
  }
 },
 "nbformat": 4,
 "nbformat_minor": 2
}
