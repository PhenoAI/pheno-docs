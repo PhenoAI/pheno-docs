{
 "cells": [
  {
   "cell_type": "markdown",
   "metadata": {},
   "source": [
    " # COVID-19 dataset\n",
    "\n",
    "### Description \n",
    "\n",
    " Information about Covid is collected in a standalone Covid survey and in the Follow-up Medical Survey in the Human Phenotype Project study.\n",
    "\n",
    "### Introduction \n",
    "\n",
    " This Covid survey presents the participants with questions regarding their Covid-19 vaccinations and diagnosis status. It is asked in-person, in every visit to the clinical testing center. Questions asked are related to the participant’s vaccination status, number of vaccine doses and boosters, were participants diagnosed with Covid-19 in the past and were they hospitalized following diagnosis. \n",
    "\n",
    "### Measurement protocol \n",
    "<!-- long measurment protocol for the data browser -->\n",
    "Participants are asked the COVID survey questions during the visit to the clinical testing center (CTC) both at baseline and on follow up visits. It is asked in person, and answers are filled into the system by study coordinators.\n",
    " \n",
    "### Data availability \n",
    "<!-- for the example notebooks -->\n",
    "The information is stored in 1 parquet file: `covid.parquet`. The 'data source' column indicates which survey the infromation comes from either the initial Covid survey or the Follow-up Medical Survey.\n",
    "\n",
    "### Relevant links\n",
    "\n",
    "* [Pheno Knowledgebase](https://knowledgebase.pheno.ai/datasets/043-covid.html)\n",
    "* [Pheno Data Browser](https://pheno-demo-app.vercel.app/folder/43)\n"
   ]
  },
  {
   "cell_type": "code",
   "execution_count": 1,
   "metadata": {},
   "outputs": [],
   "source": [
    "%load_ext autoreload\n",
    "%autoreload 2\n",
    "from pheno_utils import PhenoLoader\n",
    "import matplotlib.pyplot as plt\n",
    "import seaborn as sns"
   ]
  },
  {
   "cell_type": "code",
   "execution_count": 2,
   "metadata": {},
   "outputs": [
    {
     "data": {
      "text/plain": [
       "PhenoLoader for covid with\n",
       "19 fields\n",
       "2 tables: ['covid', 'age_sex']"
      ]
     },
     "execution_count": 2,
     "metadata": {},
     "output_type": "execute_result"
    }
   ],
   "source": [
    "pl = PhenoLoader('covid', base_path='s3://pheno-synthetic-data/data')\n",
    "pl"
   ]
  },
  {
   "cell_type": "markdown",
   "metadata": {},
   "source": [
    "# Data dictionary"
   ]
  },
  {
   "cell_type": "code",
   "execution_count": 3,
   "metadata": {},
   "outputs": [
    {
     "data": {
      "text/html": [
       "<div>\n",
       "<style scoped>\n",
       "    .dataframe tbody tr th:only-of-type {\n",
       "        vertical-align: middle;\n",
       "    }\n",
       "\n",
       "    .dataframe tbody tr th {\n",
       "        vertical-align: top;\n",
       "    }\n",
       "\n",
       "    .dataframe thead th {\n",
       "        text-align: right;\n",
       "    }\n",
       "</style>\n",
       "<table border=\"1\" class=\"dataframe\">\n",
       "  <thead>\n",
       "    <tr style=\"text-align: right;\">\n",
       "      <th></th>\n",
       "      <th>folder_id</th>\n",
       "      <th>feature_set</th>\n",
       "      <th>field_string</th>\n",
       "      <th>relative_location</th>\n",
       "      <th>bulk_dictionary</th>\n",
       "      <th>bulk_file_extension</th>\n",
       "      <th>description_string</th>\n",
       "      <th>field_type</th>\n",
       "      <th>array</th>\n",
       "      <th>stability</th>\n",
       "      <th>units</th>\n",
       "      <th>sampling_rate</th>\n",
       "      <th>strata</th>\n",
       "      <th>sexed</th>\n",
       "      <th>debut</th>\n",
       "      <th>completed</th>\n",
       "      <th>pandas_dtype</th>\n",
       "      <th>data_coding</th>\n",
       "    </tr>\n",
       "    <tr>\n",
       "      <th>tabular_field_name</th>\n",
       "      <th></th>\n",
       "      <th></th>\n",
       "      <th></th>\n",
       "      <th></th>\n",
       "      <th></th>\n",
       "      <th></th>\n",
       "      <th></th>\n",
       "      <th></th>\n",
       "      <th></th>\n",
       "      <th></th>\n",
       "      <th></th>\n",
       "      <th></th>\n",
       "      <th></th>\n",
       "      <th></th>\n",
       "      <th></th>\n",
       "      <th></th>\n",
       "      <th></th>\n",
       "      <th></th>\n",
       "    </tr>\n",
       "  </thead>\n",
       "  <tbody>\n",
       "    <tr>\n",
       "      <th>collection_timestamp</th>\n",
       "      <td>43</td>\n",
       "      <td>covid</td>\n",
       "      <td>Collection timestamp</td>\n",
       "      <td>covid/covid.parquet</td>\n",
       "      <td>NaN</td>\n",
       "      <td>NaN</td>\n",
       "      <td>Timestamp of measurements collection</td>\n",
       "      <td>Datetime</td>\n",
       "      <td>Single</td>\n",
       "      <td>Accruing</td>\n",
       "      <td>Time</td>\n",
       "      <td>NaN</td>\n",
       "      <td>Collection time</td>\n",
       "      <td>Both sexes</td>\n",
       "      <td>4/26/2021</td>\n",
       "      <td>NaN</td>\n",
       "      <td>datetime64[ns, Asia/Jerusalem]</td>\n",
       "      <td>NaN</td>\n",
       "    </tr>\n",
       "    <tr>\n",
       "      <th>collection_date</th>\n",
       "      <td>43</td>\n",
       "      <td>covid</td>\n",
       "      <td>Collection date</td>\n",
       "      <td>covid/covid.parquet</td>\n",
       "      <td>NaN</td>\n",
       "      <td>NaN</td>\n",
       "      <td>Date of measurments collection</td>\n",
       "      <td>Date</td>\n",
       "      <td>Single</td>\n",
       "      <td>Accruing</td>\n",
       "      <td>Time</td>\n",
       "      <td>NaN</td>\n",
       "      <td>Collection time</td>\n",
       "      <td>Both sexes</td>\n",
       "      <td>4/26/2021</td>\n",
       "      <td>NaN</td>\n",
       "      <td>datetime64[ns]</td>\n",
       "      <td>NaN</td>\n",
       "    </tr>\n",
       "    <tr>\n",
       "      <th>timezone</th>\n",
       "      <td>43</td>\n",
       "      <td>covid</td>\n",
       "      <td>Timezone</td>\n",
       "      <td>covid/covid.parquet</td>\n",
       "      <td>NaN</td>\n",
       "      <td>NaN</td>\n",
       "      <td>Timezone of the measurments</td>\n",
       "      <td>Categorical (single)</td>\n",
       "      <td>Single</td>\n",
       "      <td>Accruing</td>\n",
       "      <td>NaN</td>\n",
       "      <td>NaN</td>\n",
       "      <td>Collection time</td>\n",
       "      <td>Both sexes</td>\n",
       "      <td>4/26/2021</td>\n",
       "      <td>NaN</td>\n",
       "      <td>category</td>\n",
       "      <td>NaN</td>\n",
       "    </tr>\n",
       "    <tr>\n",
       "      <th>covid_vaccinated</th>\n",
       "      <td>43</td>\n",
       "      <td>covid</td>\n",
       "      <td>Were you vaccinated for Covid?</td>\n",
       "      <td>covid/covid.parquet</td>\n",
       "      <td>NaN</td>\n",
       "      <td>NaN</td>\n",
       "      <td>Were you vaccinated for Covid?</td>\n",
       "      <td>Categorical (single)</td>\n",
       "      <td>Single</td>\n",
       "      <td>Accruing</td>\n",
       "      <td>NaN</td>\n",
       "      <td>NaN</td>\n",
       "      <td>Primary</td>\n",
       "      <td>Both sexes</td>\n",
       "      <td>4/26/2021</td>\n",
       "      <td>NaN</td>\n",
       "      <td>int</td>\n",
       "      <td>7</td>\n",
       "    </tr>\n",
       "    <tr>\n",
       "      <th>covid_vaccination_doses_number</th>\n",
       "      <td>43</td>\n",
       "      <td>covid</td>\n",
       "      <td>Number of vaccine doses</td>\n",
       "      <td>covid/covid.parquet</td>\n",
       "      <td>NaN</td>\n",
       "      <td>NaN</td>\n",
       "      <td>Number of vaccine doses</td>\n",
       "      <td>Integer</td>\n",
       "      <td>Single</td>\n",
       "      <td>Accruing</td>\n",
       "      <td>NaN</td>\n",
       "      <td>NaN</td>\n",
       "      <td>Primary</td>\n",
       "      <td>Both sexes</td>\n",
       "      <td>4/26/2021</td>\n",
       "      <td>NaN</td>\n",
       "      <td>int</td>\n",
       "      <td>NaN</td>\n",
       "    </tr>\n",
       "  </tbody>\n",
       "</table>\n",
       "</div>"
      ],
      "text/plain": [
       "                                folder_id feature_set  \\\n",
       "tabular_field_name                                      \n",
       "collection_timestamp                   43       covid   \n",
       "collection_date                        43       covid   \n",
       "timezone                               43       covid   \n",
       "covid_vaccinated                       43       covid   \n",
       "covid_vaccination_doses_number         43       covid   \n",
       "\n",
       "                                                  field_string  \\\n",
       "tabular_field_name                                               \n",
       "collection_timestamp                      Collection timestamp   \n",
       "collection_date                                Collection date   \n",
       "timezone                                              Timezone   \n",
       "covid_vaccinated                Were you vaccinated for Covid?   \n",
       "covid_vaccination_doses_number         Number of vaccine doses   \n",
       "\n",
       "                                  relative_location  bulk_dictionary  \\\n",
       "tabular_field_name                                                     \n",
       "collection_timestamp            covid/covid.parquet              NaN   \n",
       "collection_date                 covid/covid.parquet              NaN   \n",
       "timezone                        covid/covid.parquet              NaN   \n",
       "covid_vaccinated                covid/covid.parquet              NaN   \n",
       "covid_vaccination_doses_number  covid/covid.parquet              NaN   \n",
       "\n",
       "                                bulk_file_extension  \\\n",
       "tabular_field_name                                    \n",
       "collection_timestamp                            NaN   \n",
       "collection_date                                 NaN   \n",
       "timezone                                        NaN   \n",
       "covid_vaccinated                                NaN   \n",
       "covid_vaccination_doses_number                  NaN   \n",
       "\n",
       "                                                  description_string  \\\n",
       "tabular_field_name                                                     \n",
       "collection_timestamp            Timestamp of measurements collection   \n",
       "collection_date                       Date of measurments collection   \n",
       "timezone                                 Timezone of the measurments   \n",
       "covid_vaccinated                      Were you vaccinated for Covid?   \n",
       "covid_vaccination_doses_number               Number of vaccine doses   \n",
       "\n",
       "                                          field_type   array stability units  \\\n",
       "tabular_field_name                                                             \n",
       "collection_timestamp                        Datetime  Single  Accruing  Time   \n",
       "collection_date                                 Date  Single  Accruing  Time   \n",
       "timezone                        Categorical (single)  Single  Accruing   NaN   \n",
       "covid_vaccinated                Categorical (single)  Single  Accruing   NaN   \n",
       "covid_vaccination_doses_number               Integer  Single  Accruing   NaN   \n",
       "\n",
       "                                sampling_rate           strata       sexed  \\\n",
       "tabular_field_name                                                           \n",
       "collection_timestamp                      NaN  Collection time  Both sexes   \n",
       "collection_date                           NaN  Collection time  Both sexes   \n",
       "timezone                                  NaN  Collection time  Both sexes   \n",
       "covid_vaccinated                          NaN          Primary  Both sexes   \n",
       "covid_vaccination_doses_number            NaN          Primary  Both sexes   \n",
       "\n",
       "                                    debut  completed  \\\n",
       "tabular_field_name                                     \n",
       "collection_timestamp            4/26/2021        NaN   \n",
       "collection_date                 4/26/2021        NaN   \n",
       "timezone                        4/26/2021        NaN   \n",
       "covid_vaccinated                4/26/2021        NaN   \n",
       "covid_vaccination_doses_number  4/26/2021        NaN   \n",
       "\n",
       "                                                  pandas_dtype data_coding  \n",
       "tabular_field_name                                                          \n",
       "collection_timestamp            datetime64[ns, Asia/Jerusalem]         NaN  \n",
       "collection_date                                 datetime64[ns]         NaN  \n",
       "timezone                                              category         NaN  \n",
       "covid_vaccinated                                           int           7  \n",
       "covid_vaccination_doses_number                             int         NaN  "
      ]
     },
     "execution_count": 3,
     "metadata": {},
     "output_type": "execute_result"
    }
   ],
   "source": [
    "pl.dict.head()"
   ]
  },
  {
   "cell_type": "code",
   "execution_count": 4,
   "metadata": {},
   "outputs": [
    {
     "data": {
      "text/html": [
       "<div>\n",
       "<style scoped>\n",
       "    .dataframe tbody tr th:only-of-type {\n",
       "        vertical-align: middle;\n",
       "    }\n",
       "\n",
       "    .dataframe tbody tr th {\n",
       "        vertical-align: top;\n",
       "    }\n",
       "\n",
       "    .dataframe thead th {\n",
       "        text-align: right;\n",
       "    }\n",
       "</style>\n",
       "<table border=\"1\" class=\"dataframe\">\n",
       "  <thead>\n",
       "    <tr style=\"text-align: right;\">\n",
       "      <th></th>\n",
       "      <th></th>\n",
       "      <th></th>\n",
       "      <th></th>\n",
       "      <th>covid_vaccination_doses_number</th>\n",
       "      <th>age</th>\n",
       "      <th>sex</th>\n",
       "    </tr>\n",
       "    <tr>\n",
       "      <th>participant_id</th>\n",
       "      <th>cohort</th>\n",
       "      <th>research_stage</th>\n",
       "      <th>array_index</th>\n",
       "      <th></th>\n",
       "      <th></th>\n",
       "      <th></th>\n",
       "    </tr>\n",
       "  </thead>\n",
       "  <tbody>\n",
       "    <tr>\n",
       "      <th>5516424321</th>\n",
       "      <th>10k</th>\n",
       "      <th>00_00_visit</th>\n",
       "      <th>0</th>\n",
       "      <td>3</td>\n",
       "      <td>54.447672</td>\n",
       "      <td>Female</td>\n",
       "    </tr>\n",
       "    <tr>\n",
       "      <th>5027574288</th>\n",
       "      <th>10k</th>\n",
       "      <th>00_00_visit</th>\n",
       "      <th>0</th>\n",
       "      <td>0</td>\n",
       "      <td>54.169913</td>\n",
       "      <td>Male</td>\n",
       "    </tr>\n",
       "    <tr>\n",
       "      <th>7783260382</th>\n",
       "      <th>10k</th>\n",
       "      <th>00_00_visit</th>\n",
       "      <th>0</th>\n",
       "      <td>4</td>\n",
       "      <td>45.892093</td>\n",
       "      <td>Male</td>\n",
       "    </tr>\n",
       "    <tr>\n",
       "      <th>1178277844</th>\n",
       "      <th>10k</th>\n",
       "      <th>00_00_visit</th>\n",
       "      <th>0</th>\n",
       "      <td>2</td>\n",
       "      <td>44.435100</td>\n",
       "      <td>Female</td>\n",
       "    </tr>\n",
       "    <tr>\n",
       "      <th>1622660825</th>\n",
       "      <th>10k</th>\n",
       "      <th>00_00_visit</th>\n",
       "      <th>0</th>\n",
       "      <td>3</td>\n",
       "      <td>44.621536</td>\n",
       "      <td>Male</td>\n",
       "    </tr>\n",
       "  </tbody>\n",
       "</table>\n",
       "</div>"
      ],
      "text/plain": [
       "                                                  covid_vaccination_doses_number  \\\n",
       "participant_id cohort research_stage array_index                                   \n",
       "5516424321     10k    00_00_visit    0                                         3   \n",
       "5027574288     10k    00_00_visit    0                                         0   \n",
       "7783260382     10k    00_00_visit    0                                         4   \n",
       "1178277844     10k    00_00_visit    0                                         2   \n",
       "1622660825     10k    00_00_visit    0                                         3   \n",
       "\n",
       "                                                        age     sex  \n",
       "participant_id cohort research_stage array_index                     \n",
       "5516424321     10k    00_00_visit    0            54.447672  Female  \n",
       "5027574288     10k    00_00_visit    0            54.169913    Male  \n",
       "7783260382     10k    00_00_visit    0            45.892093    Male  \n",
       "1178277844     10k    00_00_visit    0            44.435100  Female  \n",
       "1622660825     10k    00_00_visit    0            44.621536    Male  "
      ]
     },
     "execution_count": 4,
     "metadata": {},
     "output_type": "execute_result"
    }
   ],
   "source": [
    "pl[['covid_vaccination_doses_number', 'age', 'sex']].head()"
   ]
  },
  {
   "cell_type": "code",
   "execution_count": 5,
   "metadata": {},
   "outputs": [
    {
     "data": {
      "text/html": [
       "<div>\n",
       "<style scoped>\n",
       "    .dataframe tbody tr th:only-of-type {\n",
       "        vertical-align: middle;\n",
       "    }\n",
       "\n",
       "    .dataframe tbody tr th {\n",
       "        vertical-align: top;\n",
       "    }\n",
       "\n",
       "    .dataframe thead th {\n",
       "        text-align: right;\n",
       "    }\n",
       "</style>\n",
       "<table border=\"1\" class=\"dataframe\">\n",
       "  <thead>\n",
       "    <tr style=\"text-align: right;\">\n",
       "      <th></th>\n",
       "      <th>code_number</th>\n",
       "      <th>coding</th>\n",
       "      <th>english</th>\n",
       "      <th>hebrew</th>\n",
       "      <th>answer_field_name</th>\n",
       "      <th>sexed</th>\n",
       "      <th>ukbb_compatible</th>\n",
       "      <th>ukbb_similar_coding</th>\n",
       "      <th>scripting_instruction</th>\n",
       "      <th>description</th>\n",
       "      <th>notes</th>\n",
       "    </tr>\n",
       "  </thead>\n",
       "  <tbody>\n",
       "    <tr>\n",
       "      <th>0</th>\n",
       "      <td>001_03</td>\n",
       "      <td>0</td>\n",
       "      <td>asia/jerusalem</td>\n",
       "      <td>זמן ישראל</td>\n",
       "      <td>NaN</td>\n",
       "      <td>NaN</td>\n",
       "      <td>False</td>\n",
       "      <td>NaN</td>\n",
       "      <td>NaN</td>\n",
       "      <td>Timezone</td>\n",
       "      <td>NaN</td>\n",
       "    </tr>\n",
       "    <tr>\n",
       "      <th>1</th>\n",
       "      <td>062_02</td>\n",
       "      <td>1</td>\n",
       "      <td>BRCA-1</td>\n",
       "      <td>BRCA-1</td>\n",
       "      <td>brca_type_1</td>\n",
       "      <td>Both sexes</td>\n",
       "      <td>NaN</td>\n",
       "      <td>NaN</td>\n",
       "      <td>NaN</td>\n",
       "      <td>NaN</td>\n",
       "      <td>NaN</td>\n",
       "    </tr>\n",
       "    <tr>\n",
       "      <th>2</th>\n",
       "      <td>062_02</td>\n",
       "      <td>2</td>\n",
       "      <td>BRCA-2</td>\n",
       "      <td>BRCA-2</td>\n",
       "      <td>brca_type_2</td>\n",
       "      <td>Both sexes</td>\n",
       "      <td>NaN</td>\n",
       "      <td>NaN</td>\n",
       "      <td>NaN</td>\n",
       "      <td>NaN</td>\n",
       "      <td>NaN</td>\n",
       "    </tr>\n",
       "    <tr>\n",
       "      <th>3</th>\n",
       "      <td>062_02</td>\n",
       "      <td>-1</td>\n",
       "      <td>Do not know</td>\n",
       "      <td>לא יודע/ת</td>\n",
       "      <td>brca_type_3</td>\n",
       "      <td>Both sexes</td>\n",
       "      <td>NaN</td>\n",
       "      <td>NaN</td>\n",
       "      <td>NMUL</td>\n",
       "      <td>NaN</td>\n",
       "      <td>NaN</td>\n",
       "    </tr>\n",
       "    <tr>\n",
       "      <th>4</th>\n",
       "      <td>062_03</td>\n",
       "      <td>1</td>\n",
       "      <td>A relative of mine got breast, ovarian, or pro...</td>\n",
       "      <td>קרוב/ת משפחה חלה/תה בסרטן השד, השחלה, או הערמו...</td>\n",
       "      <td>brca_indication_1</td>\n",
       "      <td>Both sexes</td>\n",
       "      <td>NaN</td>\n",
       "      <td>NaN</td>\n",
       "      <td>NaN</td>\n",
       "      <td>NaN</td>\n",
       "      <td>NaN</td>\n",
       "    </tr>\n",
       "  </tbody>\n",
       "</table>\n",
       "</div>"
      ],
      "text/plain": [
       "  code_number  coding                                            english  \\\n",
       "0      001_03       0                                     asia/jerusalem   \n",
       "1      062_02       1                                             BRCA-1   \n",
       "2      062_02       2                                             BRCA-2   \n",
       "3      062_02      -1                                        Do not know   \n",
       "4      062_03       1  A relative of mine got breast, ovarian, or pro...   \n",
       "\n",
       "                                              hebrew  answer_field_name  \\\n",
       "0                                          זמן ישראל                NaN   \n",
       "1                                             BRCA-1        brca_type_1   \n",
       "2                                             BRCA-2        brca_type_2   \n",
       "3                                          לא יודע/ת        brca_type_3   \n",
       "4  קרוב/ת משפחה חלה/תה בסרטן השד, השחלה, או הערמו...  brca_indication_1   \n",
       "\n",
       "        sexed ukbb_compatible  ukbb_similar_coding scripting_instruction  \\\n",
       "0         NaN           False                  NaN                   NaN   \n",
       "1  Both sexes             NaN                  NaN                   NaN   \n",
       "2  Both sexes             NaN                  NaN                   NaN   \n",
       "3  Both sexes             NaN                  NaN                  NMUL   \n",
       "4  Both sexes             NaN                  NaN                   NaN   \n",
       "\n",
       "  description notes  \n",
       "0    Timezone   NaN  \n",
       "1         NaN   NaN  \n",
       "2         NaN   NaN  \n",
       "3         NaN   NaN  \n",
       "4         NaN   NaN  "
      ]
     },
     "execution_count": 5,
     "metadata": {},
     "output_type": "execute_result"
    }
   ],
   "source": [
    "df_codes = pl.data_codings\n",
    "df_codes.head()"
   ]
  },
  {
   "cell_type": "markdown",
   "metadata": {},
   "source": [
    "Each column represents a single question. Answers are saved as numbers.\n",
    "The type of the question (integer, or category with single/multiple choice) can be found in the data dictionary."
   ]
  },
  {
   "cell_type": "code",
   "execution_count": 6,
   "metadata": {},
   "outputs": [
    {
     "data": {
      "text/plain": [
       "field_type\n",
       "Categorical (single)    9\n",
       "Integer                 3\n",
       "Date                    3\n",
       "Datetime                1\n",
       "Text                    1\n",
       "Name: count, dtype: int64"
      ]
     },
     "execution_count": 6,
     "metadata": {},
     "output_type": "execute_result"
    }
   ],
   "source": [
    "pl.dict['field_type'].value_counts()"
   ]
  },
  {
   "cell_type": "markdown",
   "metadata": {},
   "source": [
    "To change the representation of the answers, we can use the function tranform_answers from pheno_utils.questionnaires_handler or change the setting of preferred lanuage  for PhenoLoader (default option is english)"
   ]
  },
  {
   "cell_type": "code",
   "execution_count": 7,
   "metadata": {},
   "outputs": [],
   "source": [
    "from pheno_utils.questionnaires_handler import transform_answers\n",
    "col = 'covid_vaccination_manufacturer'"
   ]
  },
  {
   "cell_type": "code",
   "execution_count": 15,
   "metadata": {},
   "outputs": [
    {
     "data": {
      "text/html": [
       "<div>\n",
       "<style scoped>\n",
       "    .dataframe tbody tr th:only-of-type {\n",
       "        vertical-align: middle;\n",
       "    }\n",
       "\n",
       "    .dataframe tbody tr th {\n",
       "        vertical-align: top;\n",
       "    }\n",
       "\n",
       "    .dataframe thead th {\n",
       "        text-align: right;\n",
       "    }\n",
       "</style>\n",
       "<table border=\"1\" class=\"dataframe\">\n",
       "  <thead>\n",
       "    <tr style=\"text-align: right;\">\n",
       "      <th></th>\n",
       "      <th></th>\n",
       "      <th></th>\n",
       "      <th></th>\n",
       "      <th>covid_vaccination_manufacturer</th>\n",
       "    </tr>\n",
       "    <tr>\n",
       "      <th>participant_id</th>\n",
       "      <th>cohort</th>\n",
       "      <th>research_stage</th>\n",
       "      <th>array_index</th>\n",
       "      <th></th>\n",
       "    </tr>\n",
       "  </thead>\n",
       "  <tbody>\n",
       "    <tr>\n",
       "      <th>5516424321</th>\n",
       "      <th>10k</th>\n",
       "      <th>00_00_visit</th>\n",
       "      <th>0</th>\n",
       "      <td>NaN</td>\n",
       "    </tr>\n",
       "    <tr>\n",
       "      <th>5027574288</th>\n",
       "      <th>10k</th>\n",
       "      <th>00_00_visit</th>\n",
       "      <th>0</th>\n",
       "      <td>Pfizer</td>\n",
       "    </tr>\n",
       "    <tr>\n",
       "      <th>7783260382</th>\n",
       "      <th>10k</th>\n",
       "      <th>00_00_visit</th>\n",
       "      <th>0</th>\n",
       "      <td>NaN</td>\n",
       "    </tr>\n",
       "    <tr>\n",
       "      <th>1178277844</th>\n",
       "      <th>10k</th>\n",
       "      <th>00_00_visit</th>\n",
       "      <th>0</th>\n",
       "      <td>NaN</td>\n",
       "    </tr>\n",
       "    <tr>\n",
       "      <th>1622660825</th>\n",
       "      <th>10k</th>\n",
       "      <th>00_00_visit</th>\n",
       "      <th>0</th>\n",
       "      <td>NaN</td>\n",
       "    </tr>\n",
       "  </tbody>\n",
       "</table>\n",
       "</div>"
      ],
      "text/plain": [
       "                                                 covid_vaccination_manufacturer\n",
       "participant_id cohort research_stage array_index                               \n",
       "5516424321     10k    00_00_visit    0                                      NaN\n",
       "5027574288     10k    00_00_visit    0                                   Pfizer\n",
       "7783260382     10k    00_00_visit    0                                      NaN\n",
       "1178277844     10k    00_00_visit    0                                      NaN\n",
       "1622660825     10k    00_00_visit    0                                      NaN"
      ]
     },
     "execution_count": 15,
     "metadata": {},
     "output_type": "execute_result"
    }
   ],
   "source": [
    "pl = PhenoLoader('covid', preferred_language='coding', base_path='s3://pheno-synthetic-data/data')\n",
    "pl[col].head()"
   ]
  },
  {
   "cell_type": "code",
   "execution_count": 16,
   "metadata": {},
   "outputs": [
    {
     "data": {
      "text/plain": [
       "covid_vaccination_manufacturer\n",
       "Pfizer    264\n",
       "Name: count, dtype: int64"
      ]
     },
     "execution_count": 16,
     "metadata": {},
     "output_type": "execute_result"
    }
   ],
   "source": [
    "\n",
    "tranformed_english = transform_answers(col, pl[col][col], transform_from='coding', transform_to='english', \n",
    "                                     dict_df=pl.dict, mapping_df=df_codes)\n",
    "tranformed_english.value_counts()"
   ]
  },
  {
   "cell_type": "markdown",
   "metadata": {},
   "source": [
    "## Covid vaccinations"
   ]
  },
  {
   "cell_type": "code",
   "execution_count": 17,
   "metadata": {},
   "outputs": [
    {
     "data": {
      "text/html": [
       "<div>\n",
       "<style scoped>\n",
       "    .dataframe tbody tr th:only-of-type {\n",
       "        vertical-align: middle;\n",
       "    }\n",
       "\n",
       "    .dataframe tbody tr th {\n",
       "        vertical-align: top;\n",
       "    }\n",
       "\n",
       "    .dataframe thead th {\n",
       "        text-align: right;\n",
       "    }\n",
       "</style>\n",
       "<table border=\"1\" class=\"dataframe\">\n",
       "  <thead>\n",
       "    <tr style=\"text-align: right;\">\n",
       "      <th></th>\n",
       "      <th></th>\n",
       "      <th></th>\n",
       "      <th></th>\n",
       "      <th>covid_vaccinated</th>\n",
       "    </tr>\n",
       "    <tr>\n",
       "      <th>participant_id</th>\n",
       "      <th>cohort</th>\n",
       "      <th>research_stage</th>\n",
       "      <th>array_index</th>\n",
       "      <th></th>\n",
       "    </tr>\n",
       "  </thead>\n",
       "  <tbody>\n",
       "    <tr>\n",
       "      <th>5516424321</th>\n",
       "      <th>10k</th>\n",
       "      <th>00_00_visit</th>\n",
       "      <th>0</th>\n",
       "      <td>NaN</td>\n",
       "    </tr>\n",
       "    <tr>\n",
       "      <th>5027574288</th>\n",
       "      <th>10k</th>\n",
       "      <th>00_00_visit</th>\n",
       "      <th>0</th>\n",
       "      <td>NaN</td>\n",
       "    </tr>\n",
       "    <tr>\n",
       "      <th>7783260382</th>\n",
       "      <th>10k</th>\n",
       "      <th>00_00_visit</th>\n",
       "      <th>0</th>\n",
       "      <td>NaN</td>\n",
       "    </tr>\n",
       "    <tr>\n",
       "      <th>1178277844</th>\n",
       "      <th>10k</th>\n",
       "      <th>00_00_visit</th>\n",
       "      <th>0</th>\n",
       "      <td>NaN</td>\n",
       "    </tr>\n",
       "    <tr>\n",
       "      <th>1622660825</th>\n",
       "      <th>10k</th>\n",
       "      <th>00_00_visit</th>\n",
       "      <th>0</th>\n",
       "      <td>NaN</td>\n",
       "    </tr>\n",
       "  </tbody>\n",
       "</table>\n",
       "</div>"
      ],
      "text/plain": [
       "                                                 covid_vaccinated\n",
       "participant_id cohort research_stage array_index                 \n",
       "5516424321     10k    00_00_visit    0                        NaN\n",
       "5027574288     10k    00_00_visit    0                        NaN\n",
       "7783260382     10k    00_00_visit    0                        NaN\n",
       "1178277844     10k    00_00_visit    0                        NaN\n",
       "1622660825     10k    00_00_visit    0                        NaN"
      ]
     },
     "execution_count": 17,
     "metadata": {},
     "output_type": "execute_result"
    }
   ],
   "source": [
    "pl.dfs['covid'][['covid_vaccinated']].head()"
   ]
  },
  {
   "cell_type": "code",
   "execution_count": 18,
   "metadata": {},
   "outputs": [
    {
     "name": "stdout",
     "output_type": "stream",
     "text": [
      "Count\n",
      "  covid_vaccinated  count\n",
      "0              Yes    276\n"
     ]
    }
   ],
   "source": [
    "# Vaccinations\n",
    "print('Count')\n",
    "print(pl.dfs['covid']['covid_vaccinated'].value_counts().reset_index())\n"
   ]
  },
  {
   "cell_type": "code",
   "execution_count": 19,
   "metadata": {},
   "outputs": [
    {
     "name": "stdout",
     "output_type": "stream",
     "text": [
      "Percentage\n",
      "covid_vaccinated\n",
      "Yes    1.0\n",
      "Name: proportion, dtype: float64\n"
     ]
    }
   ],
   "source": [
    "\n",
    "print('Percentage')\n",
    "print(pl.dfs['covid']['covid_vaccinated'].value_counts(normalize=True))\n"
   ]
  },
  {
   "cell_type": "code",
   "execution_count": 20,
   "metadata": {},
   "outputs": [
    {
     "data": {
      "text/plain": [
       "<Axes: title={'center': 'Covid Vaccination Doses Number'}, xlabel='covid_vaccination_doses_number', ylabel='count'>"
      ]
     },
     "execution_count": 20,
     "metadata": {},
     "output_type": "execute_result"
    },
    {
     "data": {
      "image/png": "[encoded data removed]",
      "text/plain": [
       "<Figure size 1000x500 with 1 Axes>"
      ]
     },
     "metadata": {},
     "output_type": "display_data"
    }
   ],
   "source": [
    "df = pl.dfs['covid'][['covid_vaccination_doses_number']].fillna(0)\n",
    "plt.figure(figsize=(10, 5)) \n",
    "plt.title('Covid Vaccination Doses Number')\n",
    "sns.countplot(data=df, x='covid_vaccination_doses_number')\n"
   ]
  },
  {
   "cell_type": "code",
   "execution_count": 21,
   "metadata": {},
   "outputs": [
    {
     "data": {
      "image/png": "[encoded data removed]",
      "text/plain": [
       "<Figure size 1000x500 with 1 Axes>"
      ]
     },
     "metadata": {},
     "output_type": "display_data"
    }
   ],
   "source": [
    "# Last vaccination date over time\n",
    "# import matplotlib.pyplot as plt\n",
    "date_counts = pl.dfs['covid'].groupby(pl.dfs['covid']['covid_vaccination_last_date'].dt.date).size()\n",
    "plt.figure(figsize=(10,5))\n",
    "plt.scatter(date_counts.index, date_counts.values, s=2)\n",
    "plt.title('Covid date of last vaccine')\n",
    "plt.xlabel('Date')\n",
    "plt.ylabel('Number of indivudlas reported last vaccine date')\n",
    "plt.xticks(rotation=45)\n",
    "plt.show()"
   ]
  },
  {
   "cell_type": "markdown",
   "metadata": {},
   "source": [
    "## Covid diagnosis"
   ]
  },
  {
   "cell_type": "code",
   "execution_count": 22,
   "metadata": {},
   "outputs": [
    {
     "name": "stdout",
     "output_type": "stream",
     "text": [
      "Diagnosis Count\n",
      "covid_diagnosed\n",
      "No     334\n",
      "Yes    268\n",
      "Name: count, dtype: int64\n"
     ]
    }
   ],
   "source": [
    "# Diagnosis\n",
    "print('Diagnosis Count')\n",
    "print(pl.dfs['covid']['covid_diagnosed'].value_counts())\n"
   ]
  },
  {
   "cell_type": "code",
   "execution_count": 23,
   "metadata": {},
   "outputs": [
    {
     "name": "stdout",
     "output_type": "stream",
     "text": [
      "Diagnosis Percentage\n",
      "covid_diagnosed\n",
      "No     55.481728\n",
      "Yes    44.518272\n",
      "Name: proportion, dtype: float64\n"
     ]
    }
   ],
   "source": [
    "print('Diagnosis Percentage')\n",
    "print(pl.dfs['covid']['covid_diagnosed'].value_counts(normalize=True)*100)"
   ]
  },
  {
   "cell_type": "code",
   "execution_count": 25,
   "metadata": {},
   "outputs": [
    {
     "data": {
      "image/png": "[encoded data removed]",
      "text/plain": [
       "<Figure size 1000x500 with 1 Axes>"
      ]
     },
     "metadata": {},
     "output_type": "display_data"
    }
   ],
   "source": [
    "# Diagnosis date over time\n",
    "\n",
    "date_counts = pl.dfs['covid'].groupby(pl.dfs['covid']['covid_diagnosed_date'].dt.date).size()\n",
    "plt.figure(figsize=(10,5))\n",
    "plt.scatter(date_counts.index, date_counts.values, s=2)\n",
    "plt.title('Covid diagnosis date')\n",
    "plt.xlabel('Date')\n",
    "plt.ylabel('Number of individuals reported diagnosis date')\n",
    "plt.xticks(rotation=45)\n",
    "plt.show()"
   ]
  },
  {
   "cell_type": "code",
   "execution_count": null,
   "metadata": {},
   "outputs": [],
   "source": []
  }
 ],
 "metadata": {
  "kernelspec": {
   "display_name": "base",
   "language": "python",
   "name": "python3"
  },
  "language_info": {
   "codemirror_mode": {
    "name": "ipython",
    "version": 3
   },
   "file_extension": ".py",
   "mimetype": "text/x-python",
   "name": "python",
   "nbconvert_exporter": "python",
   "pygments_lexer": "ipython3",
   "version": "3.11.4"
  }
 },
 "nbformat": 4,
 "nbformat_minor": 2
}
